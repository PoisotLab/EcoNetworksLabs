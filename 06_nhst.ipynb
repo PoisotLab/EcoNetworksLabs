{
 "cells": [
  {
   "cell_type": "code",
   "execution_count": 4,
   "metadata": {},
   "outputs": [
    {
     "name": "stdout",
     "output_type": "stream",
     "text": [
      "\u001b[32m\u001b[1mActivating\u001b[22m\u001b[39m environment at `~/EcoNetworksLabs/Project.toml`\n"
     ]
    }
   ],
   "source": [
    "using Pkg; Pkg.activate(\".\")"
   ]
  },
  {
   "cell_type": "markdown",
   "metadata": {},
   "source": [
    "## Installation of the required packages\n",
    "\n",
    "For this module, we will need the following packages:"
   ]
  },
  {
   "cell_type": "code",
   "execution_count": 5,
   "metadata": {},
   "outputs": [
    {
     "name": "stdout",
     "output_type": "stream",
     "text": [
      "\u001b[32m\u001b[1m  Updating\u001b[22m\u001b[39m registry at `~/.julia/registries/General`\n",
      "\u001b[32m\u001b[1m  Updating\u001b[22m\u001b[39m git-repo `https://github.com/JuliaRegistries/General.git`\n",
      "\u001b[?25l\u001b[2K\u001b[?25h\u001b[32m\u001b[1m Resolving\u001b[22m\u001b[39m package versions...\n",
      "\u001b[32m\u001b[1m Installed\u001b[22m\u001b[39m PlotThemes ──────── v0.4.0\n",
      "\u001b[32m\u001b[1m Installed\u001b[22m\u001b[39m FFMPEG ──────────── v0.2.3\n",
      "\u001b[32m\u001b[1m Installed\u001b[22m\u001b[39m Compat ──────────── v2.2.0\n",
      "\u001b[32m\u001b[1m Installed\u001b[22m\u001b[39m CategoricalArrays ─ v0.7.1\n",
      "\u001b[32m\u001b[1m Installed\u001b[22m\u001b[39m Polynomials ─────── v0.5.3\n",
      "\u001b[32m\u001b[1m Installed\u001b[22m\u001b[39m PlotUtils ───────── v0.6.0\n",
      "\u001b[32m\u001b[1m  Updating\u001b[22m\u001b[39m `~/EcoNetworksLabs/Project.toml`\n",
      "\u001b[90m [no changes]\u001b[39m\n",
      "\u001b[32m\u001b[1m  Updating\u001b[22m\u001b[39m `~/EcoNetworksLabs/Manifest.toml`\n",
      " \u001b[90m [324d7699]\u001b[39m\u001b[93m ↑ CategoricalArrays v0.6.0 ⇒ v0.7.1\u001b[39m\n",
      " \u001b[90m [34da2185]\u001b[39m\u001b[93m ↑ Compat v2.1.0 ⇒ v2.2.0\u001b[39m\n",
      " \u001b[90m [9a962f9c]\u001b[39m\u001b[93m ↑ DataAPI v1.0.1 ⇒ v1.1.0\u001b[39m\n",
      " \u001b[90m [864edb3b]\u001b[39m\u001b[93m ↑ DataStructures v0.17.0 ⇒ v0.17.2\u001b[39m\n",
      " \u001b[90m [c87230d0]\u001b[39m\u001b[93m ↑ FFMPEG v0.2.2 ⇒ v0.2.3\u001b[39m\n",
      " \u001b[90m [e1d29d7a]\u001b[39m\u001b[93m ↑ Missings v0.4.2 ⇒ v0.4.3\u001b[39m\n",
      " \u001b[90m [ccf2f8ad]\u001b[39m\u001b[93m ↑ PlotThemes v0.3.0 ⇒ v0.4.0\u001b[39m\n",
      " \u001b[90m [995b91a9]\u001b[39m\u001b[93m ↑ PlotUtils v0.5.8 ⇒ v0.6.0\u001b[39m\n",
      " \u001b[90m [f27b6e38]\u001b[39m\u001b[93m ↑ Polynomials v0.5.2 ⇒ v0.5.3\u001b[39m\n",
      "\u001b[32m\u001b[1m  Building\u001b[22m\u001b[39m FFMPEG → `~/.julia/packages/FFMPEG/bkWgb/deps/build.log`\n",
      "\u001b[32m\u001b[1m Resolving\u001b[22m\u001b[39m package versions...\n",
      "\u001b[32m\u001b[1m  Updating\u001b[22m\u001b[39m `~/EcoNetworksLabs/Project.toml`\n",
      "\u001b[90m [no changes]\u001b[39m\n",
      "\u001b[32m\u001b[1m  Updating\u001b[22m\u001b[39m `~/EcoNetworksLabs/Manifest.toml`\n",
      "\u001b[90m [no changes]\u001b[39m\n",
      "\u001b[32m\u001b[1m Resolving\u001b[22m\u001b[39m package versions...\n",
      "\u001b[32m\u001b[1m  Updating\u001b[22m\u001b[39m `~/EcoNetworksLabs/Project.toml`\n",
      "\u001b[90m [no changes]\u001b[39m\n",
      "\u001b[32m\u001b[1m  Updating\u001b[22m\u001b[39m `~/EcoNetworksLabs/Manifest.toml`\n",
      "\u001b[90m [no changes]\u001b[39m\n",
      "\u001b[32m\u001b[1m Resolving\u001b[22m\u001b[39m package versions...\n",
      "\u001b[32m\u001b[1m  Updating\u001b[22m\u001b[39m `~/EcoNetworksLabs/Project.toml`\n",
      " \u001b[90m [2913bbd2]\u001b[39m\u001b[92m + StatsBase v0.32.0\u001b[39m\n",
      "\u001b[32m\u001b[1m  Updating\u001b[22m\u001b[39m `~/EcoNetworksLabs/Manifest.toml`\n",
      "\u001b[90m [no changes]\u001b[39m\n"
     ]
    }
   ],
   "source": [
    "Pkg.add(\"EcologicalNetworks\")\n",
    "Pkg.add(\"Plots\")\n",
    "Pkg.add(\"Random\")\n",
    "Pkg.add(\"StatsBase\")"
   ]
  },
  {
   "cell_type": "markdown",
   "metadata": {},
   "source": [
    "Now that the packages are installed, we can load them."
   ]
  },
  {
   "cell_type": "code",
   "execution_count": 6,
   "metadata": {},
   "outputs": [],
   "source": [
    "using EcologicalNetworks\n",
    "using Plots\n",
    "using StatsBase\n",
    "using Random"
   ]
  },
  {
   "cell_type": "markdown",
   "metadata": {},
   "source": [
    "## Loading a network\n",
    "\n",
    "To illustrate NHST, we will take one host-parasite network, remove the quantitative information, and then assign it to a variable named `N`."
   ]
  },
  {
   "cell_type": "code",
   "execution_count": 7,
   "metadata": {},
   "outputs": [
    {
     "data": {
      "text/plain": [
       "18×10 bipartite  ecological network (Bool, String) (L: 61)"
      ]
     },
     "execution_count": 7,
     "metadata": {},
     "output_type": "execute_result"
    }
   ],
   "source": [
    "N = convert(BipartiteNetwork, web_of_life(\"A_HP_001\"))"
   ]
  },
  {
   "cell_type": "markdown",
   "metadata": {},
   "source": [
    "The first step is to get the *observed* value of the quantity of interest, for example NODF:"
   ]
  },
  {
   "cell_type": "code",
   "execution_count": 8,
   "metadata": {},
   "outputs": [
    {
     "data": {
      "text/plain": [
       "0.639664124909223"
      ]
     },
     "execution_count": 8,
     "metadata": {},
     "output_type": "execute_result"
    }
   ],
   "source": [
    "obs = nodf(N)"
   ]
  },
  {
   "cell_type": "markdown",
   "metadata": {},
   "source": [
    "As a second step, we need to transform this network into a probabilistic network, using one of the standard null models. In this example, we will use the type II null model, which accounts for the degree distribution of both sides of the network:"
   ]
  },
  {
   "cell_type": "code",
   "execution_count": 9,
   "metadata": {},
   "outputs": [
    {
     "data": {
      "text/plain": [
       "18×10 bipartite probabilistic ecological network (Float64, String) (L: 60.99999999999999)"
      ]
     },
     "execution_count": 9,
     "metadata": {},
     "output_type": "execute_result"
    }
   ],
   "source": [
    "template = null2(N)"
   ]
  },
  {
   "cell_type": "markdown",
   "metadata": {},
   "source": [
    "Note that the value of $L$ might be slightly different from what it said in the deterministic network. This is because numbers are difficult to represent for computers, and this will not have too much adverse effects."
   ]
  },
  {
   "cell_type": "markdown",
   "metadata": {},
   "source": [
    "From this template, we want to generate *a lot* of random networks. `EcologicalNetworks` extends the usual *Julia* functions, so we can call `rand`:"
   ]
  },
  {
   "cell_type": "code",
   "execution_count": 10,
   "metadata": {},
   "outputs": [
    {
     "data": {
      "text/plain": [
       "10000-element Array{BipartiteNetwork{Bool,String},1}:\n",
       " 18×10 bipartite  ecological network (Bool, String) (L: 78)\n",
       " 18×10 bipartite  ecological network (Bool, String) (L: 58)\n",
       " 18×10 bipartite  ecological network (Bool, String) (L: 59)\n",
       " 18×10 bipartite  ecological network (Bool, String) (L: 65)\n",
       " 18×10 bipartite  ecological network (Bool, String) (L: 53)\n",
       " 18×10 bipartite  ecological network (Bool, String) (L: 62)\n",
       " 18×10 bipartite  ecological network (Bool, String) (L: 58)\n",
       " 18×10 bipartite  ecological network (Bool, String) (L: 68)\n",
       " 18×10 bipartite  ecological network (Bool, String) (L: 68)\n",
       " 18×10 bipartite  ecological network (Bool, String) (L: 58)\n",
       " 18×10 bipartite  ecological network (Bool, String) (L: 60)\n",
       " 18×10 bipartite  ecological network (Bool, String) (L: 62)\n",
       " 18×10 bipartite  ecological network (Bool, String) (L: 51)\n",
       " ⋮                                                         \n",
       " 18×10 bipartite  ecological network (Bool, String) (L: 63)\n",
       " 18×10 bipartite  ecological network (Bool, String) (L: 59)\n",
       " 18×10 bipartite  ecological network (Bool, String) (L: 63)\n",
       " 18×10 bipartite  ecological network (Bool, String) (L: 71)\n",
       " 18×10 bipartite  ecological network (Bool, String) (L: 59)\n",
       " 18×10 bipartite  ecological network (Bool, String) (L: 66)\n",
       " 18×10 bipartite  ecological network (Bool, String) (L: 51)\n",
       " 18×10 bipartite  ecological network (Bool, String) (L: 62)\n",
       " 18×10 bipartite  ecological network (Bool, String) (L: 57)\n",
       " 18×10 bipartite  ecological network (Bool, String) (L: 59)\n",
       " 18×10 bipartite  ecological network (Bool, String) (L: 72)\n",
       " 18×10 bipartite  ecological network (Bool, String) (L: 62)"
      ]
     },
     "execution_count": 10,
     "metadata": {},
     "output_type": "execute_result"
    }
   ],
   "source": [
    "draws = rand(template, 10_000)"
   ]
  },
  {
   "cell_type": "markdown",
   "metadata": {},
   "source": [
    "This will have generated $10^3$ networks. Each of these networks is generated in the following way: every interactions is considered to be a probability $p$, and the network is filled with the output of a Bernoulli trial with probability of success $p$. For example, if the null model says that an interaction has a probability of $0.5$, we expect that about half of the random draws will have this interaction."
   ]
  },
  {
   "cell_type": "markdown",
   "metadata": {},
   "source": [
    "We can now have a look at the values of NODF in this random sample. The `f.(x)` notation means \"apply `f` to every element of `x`\"."
   ]
  },
  {
   "cell_type": "code",
   "execution_count": 12,
   "metadata": {},
   "outputs": [
    {
     "data": {
      "text/plain": [
       "10000-element Array{Float64,1}:\n",
       "   0.5651478369125429 \n",
       "   0.4446184534419828 \n",
       " NaN                  \n",
       "   0.5130939412802157 \n",
       " NaN                  \n",
       "   0.4567211328976035 \n",
       "   0.3360955493308434 \n",
       "   0.4568681917211329 \n",
       " NaN                  \n",
       " NaN                  \n",
       "   0.4103516962340491 \n",
       " NaN                  \n",
       " NaN                  \n",
       "   ⋮                  \n",
       " NaN                  \n",
       "   0.472307033924681  \n",
       "   0.4986990351696233 \n",
       "   0.4949618736383442 \n",
       " NaN                  \n",
       "   0.4554038281979459 \n",
       " NaN                  \n",
       "   0.43785117750804026\n",
       " NaN                  \n",
       "   0.5464379084967319 \n",
       " NaN                  \n",
       "   0.4361105923851023 "
      ]
     },
     "execution_count": 12,
     "metadata": {},
     "output_type": "execute_result"
    }
   ],
   "source": [
    "r = nodf.(draws)"
   ]
  },
  {
   "cell_type": "markdown",
   "metadata": {},
   "source": [
    "Weird, some of these networks have a value of `NaN`. This is because some of the random networks are *degenerate*, *i.e.* they have species with no interactions left. Let's remove them.\n",
    "\n",
    "The `filter(condition, collection)` function will select only the elements of `collection` which satisfy `condition` (which is a function). In this case, we use `!isdegenerate`, *i.e.* the opposite of \"is the network degenerate\", to return only networks with connected species. \n",
    "\n",
    "Note that we use the `filter!` function - it *modifies* the collection on which it is called. By convention, *Julia* function ending with `!` will change their arguments."
   ]
  },
  {
   "cell_type": "code",
   "execution_count": 15,
   "metadata": {},
   "outputs": [
    {
     "data": {
      "text/plain": [
       "5499-element Array{BipartiteNetwork{Bool,String},1}:\n",
       " 18×10 bipartite  ecological network (Bool, String) (L: 78)\n",
       " 18×10 bipartite  ecological network (Bool, String) (L: 58)\n",
       " 18×10 bipartite  ecological network (Bool, String) (L: 65)\n",
       " 18×10 bipartite  ecological network (Bool, String) (L: 62)\n",
       " 18×10 bipartite  ecological network (Bool, String) (L: 58)\n",
       " 18×10 bipartite  ecological network (Bool, String) (L: 68)\n",
       " 18×10 bipartite  ecological network (Bool, String) (L: 60)\n",
       " 18×10 bipartite  ecological network (Bool, String) (L: 64)\n",
       " 18×10 bipartite  ecological network (Bool, String) (L: 55)\n",
       " 18×10 bipartite  ecological network (Bool, String) (L: 66)\n",
       " 18×10 bipartite  ecological network (Bool, String) (L: 60)\n",
       " 18×10 bipartite  ecological network (Bool, String) (L: 64)\n",
       " 18×10 bipartite  ecological network (Bool, String) (L: 66)\n",
       " ⋮                                                         \n",
       " 18×10 bipartite  ecological network (Bool, String) (L: 68)\n",
       " 18×10 bipartite  ecological network (Bool, String) (L: 64)\n",
       " 18×10 bipartite  ecological network (Bool, String) (L: 60)\n",
       " 18×10 bipartite  ecological network (Bool, String) (L: 56)\n",
       " 18×10 bipartite  ecological network (Bool, String) (L: 72)\n",
       " 18×10 bipartite  ecological network (Bool, String) (L: 59)\n",
       " 18×10 bipartite  ecological network (Bool, String) (L: 63)\n",
       " 18×10 bipartite  ecological network (Bool, String) (L: 71)\n",
       " 18×10 bipartite  ecological network (Bool, String) (L: 66)\n",
       " 18×10 bipartite  ecological network (Bool, String) (L: 62)\n",
       " 18×10 bipartite  ecological network (Bool, String) (L: 59)\n",
       " 18×10 bipartite  ecological network (Bool, String) (L: 62)"
      ]
     },
     "execution_count": 15,
     "metadata": {},
     "output_type": "execute_result"
    }
   ],
   "source": [
    "filter!(!isdegenerate, draws)"
   ]
  },
  {
   "cell_type": "code",
   "execution_count": 16,
   "metadata": {},
   "outputs": [
    {
     "data": {
      "text/plain": [
       "5499-element Array{Float64,1}:\n",
       " 0.5651478369125429 \n",
       " 0.4446184534419828 \n",
       " 0.5130939412802157 \n",
       " 0.4567211328976035 \n",
       " 0.3360955493308434 \n",
       " 0.4568681917211329 \n",
       " 0.4103516962340491 \n",
       " 0.4737986305633365 \n",
       " 0.44603485838779955\n",
       " 0.4927723311546841 \n",
       " 0.5005174291938997 \n",
       " 0.44060846560846556\n",
       " 0.4451167133520074 \n",
       " ⋮                  \n",
       " 0.4976470588235295 \n",
       " 0.48643531486668734\n",
       " 0.46472766884531574\n",
       " 0.3542211328976035 \n",
       " 0.5516918248780993 \n",
       " 0.472307033924681  \n",
       " 0.4986990351696233 \n",
       " 0.4949618736383442 \n",
       " 0.4554038281979459 \n",
       " 0.43785117750804026\n",
       " 0.5464379084967319 \n",
       " 0.4361105923851023 "
      ]
     },
     "execution_count": 16,
     "metadata": {},
     "output_type": "execute_result"
    }
   ],
   "source": [
    "nodf_random = nodf.(draws)"
   ]
  },
  {
   "cell_type": "code",
   "execution_count": null,
   "metadata": {},
   "outputs": [],
   "source": [
    "histogram(nodf_random)"
   ]
  }
 ],
 "metadata": {
  "kernelspec": {
   "display_name": "Julia 1.2.0",
   "language": "julia",
   "name": "julia-1.2"
  },
  "language_info": {
   "file_extension": ".jl",
   "mimetype": "application/julia",
   "name": "julia",
   "version": "1.2.0"
  }
 },
 "nbformat": 4,
 "nbformat_minor": 4
}
