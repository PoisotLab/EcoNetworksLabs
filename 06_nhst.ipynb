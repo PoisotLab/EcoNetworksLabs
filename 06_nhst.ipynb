{
 "cells": [
  {
   "cell_type": "code",
   "execution_count": 4,
   "metadata": {},
   "outputs": [
    {
     "name": "stdout",
     "output_type": "stream",
     "text": [
      "\u001b[32m\u001b[1mActivating\u001b[22m\u001b[39m environment at `~/EcoNetworksLabs/Project.toml`\n"
     ]
    }
   ],
   "source": [
    "using Pkg; Pkg.activate(\".\")"
   ]
  },
  {
   "cell_type": "markdown",
   "metadata": {},
   "source": [
    "## Installation of the required packages\n",
    "\n",
    "For this module, we will need the following packages:"
   ]
  },
  {
   "cell_type": "code",
   "execution_count": 5,
   "metadata": {},
   "outputs": [
    {
     "name": "stdout",
     "output_type": "stream",
     "text": [
      "\u001b[32m\u001b[1m  Updating\u001b[22m\u001b[39m registry at `~/.julia/registries/General`\n",
      "\u001b[32m\u001b[1m  Updating\u001b[22m\u001b[39m git-repo `https://github.com/JuliaRegistries/General.git`\n",
      "\u001b[?25l\u001b[2K\u001b[?25h\u001b[32m\u001b[1m Resolving\u001b[22m\u001b[39m package versions...\n",
      "\u001b[32m\u001b[1m Installed\u001b[22m\u001b[39m PlotThemes ──────── v0.4.0\n",
      "\u001b[32m\u001b[1m Installed\u001b[22m\u001b[39m FFMPEG ──────────── v0.2.3\n",
      "\u001b[32m\u001b[1m Installed\u001b[22m\u001b[39m Compat ──────────── v2.2.0\n",
      "\u001b[32m\u001b[1m Installed\u001b[22m\u001b[39m CategoricalArrays ─ v0.7.1\n",
      "\u001b[32m\u001b[1m Installed\u001b[22m\u001b[39m Polynomials ─────── v0.5.3\n",
      "\u001b[32m\u001b[1m Installed\u001b[22m\u001b[39m PlotUtils ───────── v0.6.0\n",
      "\u001b[32m\u001b[1m  Updating\u001b[22m\u001b[39m `~/EcoNetworksLabs/Project.toml`\n",
      "\u001b[90m [no changes]\u001b[39m\n",
      "\u001b[32m\u001b[1m  Updating\u001b[22m\u001b[39m `~/EcoNetworksLabs/Manifest.toml`\n",
      " \u001b[90m [324d7699]\u001b[39m\u001b[93m ↑ CategoricalArrays v0.6.0 ⇒ v0.7.1\u001b[39m\n",
      " \u001b[90m [34da2185]\u001b[39m\u001b[93m ↑ Compat v2.1.0 ⇒ v2.2.0\u001b[39m\n",
      " \u001b[90m [9a962f9c]\u001b[39m\u001b[93m ↑ DataAPI v1.0.1 ⇒ v1.1.0\u001b[39m\n",
      " \u001b[90m [864edb3b]\u001b[39m\u001b[93m ↑ DataStructures v0.17.0 ⇒ v0.17.2\u001b[39m\n",
      " \u001b[90m [c87230d0]\u001b[39m\u001b[93m ↑ FFMPEG v0.2.2 ⇒ v0.2.3\u001b[39m\n",
      " \u001b[90m [e1d29d7a]\u001b[39m\u001b[93m ↑ Missings v0.4.2 ⇒ v0.4.3\u001b[39m\n",
      " \u001b[90m [ccf2f8ad]\u001b[39m\u001b[93m ↑ PlotThemes v0.3.0 ⇒ v0.4.0\u001b[39m\n",
      " \u001b[90m [995b91a9]\u001b[39m\u001b[93m ↑ PlotUtils v0.5.8 ⇒ v0.6.0\u001b[39m\n",
      " \u001b[90m [f27b6e38]\u001b[39m\u001b[93m ↑ Polynomials v0.5.2 ⇒ v0.5.3\u001b[39m\n",
      "\u001b[32m\u001b[1m  Building\u001b[22m\u001b[39m FFMPEG → `~/.julia/packages/FFMPEG/bkWgb/deps/build.log`\n",
      "\u001b[32m\u001b[1m Resolving\u001b[22m\u001b[39m package versions...\n",
      "\u001b[32m\u001b[1m  Updating\u001b[22m\u001b[39m `~/EcoNetworksLabs/Project.toml`\n",
      "\u001b[90m [no changes]\u001b[39m\n",
      "\u001b[32m\u001b[1m  Updating\u001b[22m\u001b[39m `~/EcoNetworksLabs/Manifest.toml`\n",
      "\u001b[90m [no changes]\u001b[39m\n",
      "\u001b[32m\u001b[1m Resolving\u001b[22m\u001b[39m package versions...\n",
      "\u001b[32m\u001b[1m  Updating\u001b[22m\u001b[39m `~/EcoNetworksLabs/Project.toml`\n",
      "\u001b[90m [no changes]\u001b[39m\n",
      "\u001b[32m\u001b[1m  Updating\u001b[22m\u001b[39m `~/EcoNetworksLabs/Manifest.toml`\n",
      "\u001b[90m [no changes]\u001b[39m\n",
      "\u001b[32m\u001b[1m Resolving\u001b[22m\u001b[39m package versions...\n",
      "\u001b[32m\u001b[1m  Updating\u001b[22m\u001b[39m `~/EcoNetworksLabs/Project.toml`\n",
      " \u001b[90m [2913bbd2]\u001b[39m\u001b[92m + StatsBase v0.32.0\u001b[39m\n",
      "\u001b[32m\u001b[1m  Updating\u001b[22m\u001b[39m `~/EcoNetworksLabs/Manifest.toml`\n",
      "\u001b[90m [no changes]\u001b[39m\n"
     ]
    }
   ],
   "source": [
    "Pkg.add(\"EcologicalNetworks\")\n",
    "Pkg.add(\"Plots\")\n",
    "Pkg.add(\"Random\")\n",
    "Pkg.add(\"StatsBase\")"
   ]
  },
  {
   "cell_type": "markdown",
   "metadata": {},
   "source": [
    "Now that the packages are installed, we can load them."
   ]
  },
  {
   "cell_type": "code",
   "execution_count": 6,
   "metadata": {},
   "outputs": [],
   "source": [
    "using EcologicalNetworks\n",
    "using Plots\n",
    "using StatsBase\n",
    "using Random"
   ]
  },
  {
   "cell_type": "markdown",
   "metadata": {},
   "source": [
    "## Loading a network\n",
    "\n",
    "To illustrate NHST, we will take one host-parasite network, remove the quantitative information, and then assign it to a variable named `N`."
   ]
  },
  {
   "cell_type": "code",
   "execution_count": 7,
   "metadata": {},
   "outputs": [
    {
     "data": {
      "text/plain": [
       "18×10 bipartite  ecological network (Bool, String) (L: 61)"
      ]
     },
     "execution_count": 7,
     "metadata": {},
     "output_type": "execute_result"
    }
   ],
   "source": [
    "N = convert(BipartiteNetwork, web_of_life(\"A_HP_001\"))"
   ]
  },
  {
   "cell_type": "markdown",
   "metadata": {},
   "source": [
    "The first step is to get the *observed* value of the quantity of interest, for example NODF:"
   ]
  },
  {
   "cell_type": "code",
   "execution_count": 8,
   "metadata": {},
   "outputs": [
    {
     "data": {
      "text/plain": [
       "0.639664124909223"
      ]
     },
     "execution_count": 8,
     "metadata": {},
     "output_type": "execute_result"
    }
   ],
   "source": [
    "obs = nodf(N)"
   ]
  },
  {
   "cell_type": "markdown",
   "metadata": {},
   "source": [
    "As a second step, we need to transform this network into a probabilistic network, using one of the standard null models. In this example, we will use the type II null model, which accounts for the degree distribution of both sides of the network:"
   ]
  },
  {
   "cell_type": "code",
   "execution_count": 9,
   "metadata": {},
   "outputs": [
    {
     "data": {
      "text/plain": [
       "18×10 bipartite probabilistic ecological network (Float64, String) (L: 60.99999999999999)"
      ]
     },
     "execution_count": 9,
     "metadata": {},
     "output_type": "execute_result"
    }
   ],
   "source": [
    "template = null2(N)"
   ]
  },
  {
   "cell_type": "markdown",
   "metadata": {},
   "source": [
    "Note that the value of $L$ might be slightly different from what it said in the deterministic network. This is because numbers are difficult to represent for computers, and this will not have too much adverse effects."
   ]
  },
  {
   "cell_type": "markdown",
   "metadata": {},
   "source": [
    "From this template, we want to generate *a lot* of random networks. `EcologicalNetworks` extends the usual *Julia* functions, so we can call `rand`:"
   ]
  },
  {
   "cell_type": "code",
   "execution_count": 10,
   "metadata": {},
   "outputs": [
    {
     "data": {
      "text/plain": [
       "10000-element Array{BipartiteNetwork{Bool,String},1}:\n",
       " 18×10 bipartite  ecological network (Bool, String) (L: 78)\n",
       " 18×10 bipartite  ecological network (Bool, String) (L: 58)\n",
       " 18×10 bipartite  ecological network (Bool, String) (L: 59)\n",
       " 18×10 bipartite  ecological network (Bool, String) (L: 65)\n",
       " 18×10 bipartite  ecological network (Bool, String) (L: 53)\n",
       " 18×10 bipartite  ecological network (Bool, String) (L: 62)\n",
       " 18×10 bipartite  ecological network (Bool, String) (L: 58)\n",
       " 18×10 bipartite  ecological network (Bool, String) (L: 68)\n",
       " 18×10 bipartite  ecological network (Bool, String) (L: 68)\n",
       " 18×10 bipartite  ecological network (Bool, String) (L: 58)\n",
       " 18×10 bipartite  ecological network (Bool, String) (L: 60)\n",
       " 18×10 bipartite  ecological network (Bool, String) (L: 62)\n",
       " 18×10 bipartite  ecological network (Bool, String) (L: 51)\n",
       " ⋮                                                         \n",
       " 18×10 bipartite  ecological network (Bool, String) (L: 63)\n",
       " 18×10 bipartite  ecological network (Bool, String) (L: 59)\n",
       " 18×10 bipartite  ecological network (Bool, String) (L: 63)\n",
       " 18×10 bipartite  ecological network (Bool, String) (L: 71)\n",
       " 18×10 bipartite  ecological network (Bool, String) (L: 59)\n",
       " 18×10 bipartite  ecological network (Bool, String) (L: 66)\n",
       " 18×10 bipartite  ecological network (Bool, String) (L: 51)\n",
       " 18×10 bipartite  ecological network (Bool, String) (L: 62)\n",
       " 18×10 bipartite  ecological network (Bool, String) (L: 57)\n",
       " 18×10 bipartite  ecological network (Bool, String) (L: 59)\n",
       " 18×10 bipartite  ecological network (Bool, String) (L: 72)\n",
       " 18×10 bipartite  ecological network (Bool, String) (L: 62)"
      ]
     },
     "execution_count": 10,
     "metadata": {},
     "output_type": "execute_result"
    }
   ],
   "source": [
    "draws = rand(template, 10_000)"
   ]
  },
  {
   "cell_type": "markdown",
   "metadata": {},
   "source": [
    "This will have generated $10^3$ networks. Each of these networks is generated in the following way: every interactions is considered to be a probability $p$, and the network is filled with the output of a Bernoulli trial with probability of success $p$. For example, if the null model says that an interaction has a probability of $0.5$, we expect that about half of the random draws will have this interaction."
   ]
  },
  {
   "cell_type": "markdown",
   "metadata": {},
   "source": [
    "We can now have a look at the values of NODF in this random sample. The `f.(x)` notation means \"apply `f` to every element of `x`\"."
   ]
  },
  {
   "cell_type": "code",
   "execution_count": 12,
   "metadata": {},
   "outputs": [
    {
     "data": {
      "text/plain": [
       "10000-element Array{Float64,1}:\n",
       "   0.5651478369125429 \n",
       "   0.4446184534419828 \n",
       " NaN                  \n",
       "   0.5130939412802157 \n",
       " NaN                  \n",
       "   0.4567211328976035 \n",
       "   0.3360955493308434 \n",
       "   0.4568681917211329 \n",
       " NaN                  \n",
       " NaN                  \n",
       "   0.4103516962340491 \n",
       " NaN                  \n",
       " NaN                  \n",
       "   ⋮                  \n",
       " NaN                  \n",
       "   0.472307033924681  \n",
       "   0.4986990351696233 \n",
       "   0.4949618736383442 \n",
       " NaN                  \n",
       "   0.4554038281979459 \n",
       " NaN                  \n",
       "   0.43785117750804026\n",
       " NaN                  \n",
       "   0.5464379084967319 \n",
       " NaN                  \n",
       "   0.4361105923851023 "
      ]
     },
     "execution_count": 12,
     "metadata": {},
     "output_type": "execute_result"
    }
   ],
   "source": [
    "r = nodf.(draws)"
   ]
  },
  {
   "cell_type": "markdown",
   "metadata": {},
   "source": [
    "Weird, some of these networks have a value of `NaN`. This is because some of the random networks are *degenerate*, *i.e.* they have species with no interactions left. Let's remove them.\n",
    "\n",
    "The `filter(condition, collection)` function will select only the elements of `collection` which satisfy `condition` (which is a function). In this case, we use `!isdegenerate`, *i.e.* the opposite of \"is the network degenerate\", to return only networks with connected species. \n",
    "\n",
    "Note that we use the `filter!` function - it *modifies* the collection on which it is called. By convention, *Julia* function ending with `!` will change their arguments."
   ]
  },
  {
   "cell_type": "code",
   "execution_count": 15,
   "metadata": {},
   "outputs": [
    {
     "data": {
      "text/plain": [
       "5499-element Array{BipartiteNetwork{Bool,String},1}:\n",
       " 18×10 bipartite  ecological network (Bool, String) (L: 78)\n",
       " 18×10 bipartite  ecological network (Bool, String) (L: 58)\n",
       " 18×10 bipartite  ecological network (Bool, String) (L: 65)\n",
       " 18×10 bipartite  ecological network (Bool, String) (L: 62)\n",
       " 18×10 bipartite  ecological network (Bool, String) (L: 58)\n",
       " 18×10 bipartite  ecological network (Bool, String) (L: 68)\n",
       " 18×10 bipartite  ecological network (Bool, String) (L: 60)\n",
       " 18×10 bipartite  ecological network (Bool, String) (L: 64)\n",
       " 18×10 bipartite  ecological network (Bool, String) (L: 55)\n",
       " 18×10 bipartite  ecological network (Bool, String) (L: 66)\n",
       " 18×10 bipartite  ecological network (Bool, String) (L: 60)\n",
       " 18×10 bipartite  ecological network (Bool, String) (L: 64)\n",
       " 18×10 bipartite  ecological network (Bool, String) (L: 66)\n",
       " ⋮                                                         \n",
       " 18×10 bipartite  ecological network (Bool, String) (L: 68)\n",
       " 18×10 bipartite  ecological network (Bool, String) (L: 64)\n",
       " 18×10 bipartite  ecological network (Bool, String) (L: 60)\n",
       " 18×10 bipartite  ecological network (Bool, String) (L: 56)\n",
       " 18×10 bipartite  ecological network (Bool, String) (L: 72)\n",
       " 18×10 bipartite  ecological network (Bool, String) (L: 59)\n",
       " 18×10 bipartite  ecological network (Bool, String) (L: 63)\n",
       " 18×10 bipartite  ecological network (Bool, String) (L: 71)\n",
       " 18×10 bipartite  ecological network (Bool, String) (L: 66)\n",
       " 18×10 bipartite  ecological network (Bool, String) (L: 62)\n",
       " 18×10 bipartite  ecological network (Bool, String) (L: 59)\n",
       " 18×10 bipartite  ecological network (Bool, String) (L: 62)"
      ]
     },
     "execution_count": 15,
     "metadata": {},
     "output_type": "execute_result"
    }
   ],
   "source": [
    "filter!(!isdegenerate, draws)"
   ]
  },
  {
   "cell_type": "code",
   "execution_count": 16,
   "metadata": {},
   "outputs": [
    {
     "data": {
      "text/plain": [
       "5499-element Array{Float64,1}:\n",
       " 0.5651478369125429 \n",
       " 0.4446184534419828 \n",
       " 0.5130939412802157 \n",
       " 0.4567211328976035 \n",
       " 0.3360955493308434 \n",
       " 0.4568681917211329 \n",
       " 0.4103516962340491 \n",
       " 0.4737986305633365 \n",
       " 0.44603485838779955\n",
       " 0.4927723311546841 \n",
       " 0.5005174291938997 \n",
       " 0.44060846560846556\n",
       " 0.4451167133520074 \n",
       " ⋮                  \n",
       " 0.4976470588235295 \n",
       " 0.48643531486668734\n",
       " 0.46472766884531574\n",
       " 0.3542211328976035 \n",
       " 0.5516918248780993 \n",
       " 0.472307033924681  \n",
       " 0.4986990351696233 \n",
       " 0.4949618736383442 \n",
       " 0.4554038281979459 \n",
       " 0.43785117750804026\n",
       " 0.5464379084967319 \n",
       " 0.4361105923851023 "
      ]
     },
     "execution_count": 16,
     "metadata": {},
     "output_type": "execute_result"
    }
   ],
   "source": [
    "nodf_random = nodf.(draws)"
   ]
  },
  {
   "cell_type": "code",
   "execution_count": 26,
   "metadata": {},
   "outputs": [
    {
     "data": {
      "image/svg+xml": [
       "<?xml version=\"1.0\" encoding=\"utf-8\"?>\n",
       "<svg xmlns=\"http://www.w3.org/2000/svg\" xmlns:xlink=\"http://www.w3.org/1999/xlink\" width=\"600\" height=\"400\" viewBox=\"0 0 2400 1600\">\n",
       "<defs>\n",
       "  <clipPath id=\"clip7100\">\n",
       "    <rect x=\"0\" y=\"0\" width=\"2400\" height=\"1600\"/>\n",
       "  </clipPath>\n",
       "</defs>\n",
       "<polygon clip-path=\"url(#clip7100)\" points=\"\n",
       "0,1600 2400,1600 2400,0 0,0 \n",
       "  \" fill=\"#ffffff\" fill-rule=\"evenodd\" fill-opacity=\"1\"/>\n",
       "<defs>\n",
       "  <clipPath id=\"clip7101\">\n",
       "    <rect x=\"480\" y=\"0\" width=\"1681\" height=\"1600\"/>\n",
       "  </clipPath>\n",
       "</defs>\n",
       "<polygon clip-path=\"url(#clip7100)\" points=\"\n",
       "229.135,1425.62 2352.76,1425.62 2352.76,47.2441 229.135,47.2441 \n",
       "  \" fill=\"#ffffff\" fill-rule=\"evenodd\" fill-opacity=\"1\"/>\n",
       "<defs>\n",
       "  <clipPath id=\"clip7102\">\n",
       "    <rect x=\"229\" y=\"47\" width=\"2125\" height=\"1379\"/>\n",
       "  </clipPath>\n",
       "</defs>\n",
       "<polyline clip-path=\"url(#clip7102)\" style=\"stroke:#000000; stroke-width:2; stroke-opacity:0.1; fill:none\" points=\"\n",
       "  850.104,1425.62 850.104,47.2441 \n",
       "  \"/>\n",
       "<polyline clip-path=\"url(#clip7102)\" style=\"stroke:#000000; stroke-width:2; stroke-opacity:0.1; fill:none\" points=\"\n",
       "  1410.97,1425.62 1410.97,47.2441 \n",
       "  \"/>\n",
       "<polyline clip-path=\"url(#clip7102)\" style=\"stroke:#000000; stroke-width:2; stroke-opacity:0.1; fill:none\" points=\"\n",
       "  1971.84,1425.62 1971.84,47.2441 \n",
       "  \"/>\n",
       "<polyline clip-path=\"url(#clip7102)\" style=\"stroke:#000000; stroke-width:2; stroke-opacity:0.1; fill:none\" points=\"\n",
       "  229.135,1043.51 2352.76,1043.51 \n",
       "  \"/>\n",
       "<polyline clip-path=\"url(#clip7102)\" style=\"stroke:#000000; stroke-width:2; stroke-opacity:0.1; fill:none\" points=\"\n",
       "  229.135,700.406 2352.76,700.406 \n",
       "  \"/>\n",
       "<polyline clip-path=\"url(#clip7102)\" style=\"stroke:#000000; stroke-width:2; stroke-opacity:0.1; fill:none\" points=\"\n",
       "  229.135,357.305 2352.76,357.305 \n",
       "  \"/>\n",
       "<polyline clip-path=\"url(#clip7100)\" style=\"stroke:#000000; stroke-width:4; stroke-opacity:1; fill:none\" points=\"\n",
       "  229.135,1386.61 2352.76,1386.61 \n",
       "  \"/>\n",
       "<polyline clip-path=\"url(#clip7100)\" style=\"stroke:#000000; stroke-width:4; stroke-opacity:1; fill:none\" points=\"\n",
       "  289.238,1425.62 289.238,47.2441 \n",
       "  \"/>\n",
       "<polyline clip-path=\"url(#clip7100)\" style=\"stroke:#000000; stroke-width:4; stroke-opacity:1; fill:none\" points=\"\n",
       "  850.104,1386.61 850.104,1365.93 \n",
       "  \"/>\n",
       "<polyline clip-path=\"url(#clip7100)\" style=\"stroke:#000000; stroke-width:4; stroke-opacity:1; fill:none\" points=\"\n",
       "  1410.97,1386.61 1410.97,1365.93 \n",
       "  \"/>\n",
       "<polyline clip-path=\"url(#clip7100)\" style=\"stroke:#000000; stroke-width:4; stroke-opacity:1; fill:none\" points=\"\n",
       "  1971.84,1386.61 1971.84,1365.93 \n",
       "  \"/>\n",
       "<polyline clip-path=\"url(#clip7100)\" style=\"stroke:#000000; stroke-width:4; stroke-opacity:1; fill:none\" points=\"\n",
       "  289.238,1043.51 321.092,1043.51 \n",
       "  \"/>\n",
       "<polyline clip-path=\"url(#clip7100)\" style=\"stroke:#000000; stroke-width:4; stroke-opacity:1; fill:none\" points=\"\n",
       "  289.238,700.406 321.092,700.406 \n",
       "  \"/>\n",
       "<polyline clip-path=\"url(#clip7100)\" style=\"stroke:#000000; stroke-width:4; stroke-opacity:1; fill:none\" points=\"\n",
       "  289.238,357.305 321.092,357.305 \n",
       "  \"/>\n",
       "<g clip-path=\"url(#clip7100)\">\n",
       "<text style=\"fill:#000000; fill-opacity:1; font-family:Arial,Helvetica Neue,Helvetica,sans-serif; font-size:48px; text-anchor:middle;\" transform=\"rotate(0, 850.104, 1440.61)\" x=\"850.104\" y=\"1440.61\">0.2</text>\n",
       "</g>\n",
       "<g clip-path=\"url(#clip7100)\">\n",
       "<text style=\"fill:#000000; fill-opacity:1; font-family:Arial,Helvetica Neue,Helvetica,sans-serif; font-size:48px; text-anchor:middle;\" transform=\"rotate(0, 1410.97, 1440.61)\" x=\"1410.97\" y=\"1440.61\">0.4</text>\n",
       "</g>\n",
       "<g clip-path=\"url(#clip7100)\">\n",
       "<text style=\"fill:#000000; fill-opacity:1; font-family:Arial,Helvetica Neue,Helvetica,sans-serif; font-size:48px; text-anchor:middle;\" transform=\"rotate(0, 1971.84, 1440.61)\" x=\"1971.84\" y=\"1440.61\">0.6</text>\n",
       "</g>\n",
       "<g clip-path=\"url(#clip7100)\">\n",
       "<text style=\"fill:#000000; fill-opacity:1; font-family:Arial,Helvetica Neue,Helvetica,sans-serif; font-size:48px; text-anchor:end;\" transform=\"rotate(0, 265.238, 1061.01)\" x=\"265.238\" y=\"1061.01\">100</text>\n",
       "</g>\n",
       "<g clip-path=\"url(#clip7100)\">\n",
       "<text style=\"fill:#000000; fill-opacity:1; font-family:Arial,Helvetica Neue,Helvetica,sans-serif; font-size:48px; text-anchor:end;\" transform=\"rotate(0, 265.238, 717.906)\" x=\"265.238\" y=\"717.906\">200</text>\n",
       "</g>\n",
       "<g clip-path=\"url(#clip7100)\">\n",
       "<text style=\"fill:#000000; fill-opacity:1; font-family:Arial,Helvetica Neue,Helvetica,sans-serif; font-size:48px; text-anchor:end;\" transform=\"rotate(0, 265.238, 374.805)\" x=\"265.238\" y=\"374.805\">300</text>\n",
       "</g>\n",
       "<g clip-path=\"url(#clip7100)\">\n",
       "<text style=\"fill:#000000; fill-opacity:1; font-family:Arial,Helvetica Neue,Helvetica,sans-serif; font-size:66px; text-anchor:middle;\" transform=\"rotate(0, 1290.95, 1559.48)\" x=\"1290.95\" y=\"1559.48\">NODF</text>\n",
       "</g>\n",
       "<g clip-path=\"url(#clip7100)\">\n",
       "<text style=\"fill:#000000; fill-opacity:1; font-family:Arial,Helvetica Neue,Helvetica,sans-serif; font-size:66px; text-anchor:middle;\" transform=\"rotate(-90, 89.2861, 736.431)\" x=\"89.2861\" y=\"736.431\">Count</text>\n",
       "</g>\n",
       "<polygon clip-path=\"url(#clip7102)\" points=\"\n",
       "906.191,1383.18 906.191,1386.61 934.234,1386.61 934.234,1383.18 906.191,1383.18 906.191,1383.18 \n",
       "  \" fill=\"#d3d3d3\" fill-rule=\"evenodd\" fill-opacity=\"1\"/>\n",
       "<polyline clip-path=\"url(#clip7102)\" style=\"stroke:#d3d3d3; stroke-width:4; stroke-opacity:1; fill:none\" points=\"\n",
       "  906.191,1383.18 906.191,1386.61 934.234,1386.61 934.234,1383.18 906.191,1383.18 \n",
       "  \"/>\n",
       "<polygon clip-path=\"url(#clip7102)\" points=\"\n",
       "934.234,1386.61 934.234,1386.61 962.278,1386.61 962.278,1386.61 934.234,1386.61 934.234,1386.61 \n",
       "  \" fill=\"#d3d3d3\" fill-rule=\"evenodd\" fill-opacity=\"1\"/>\n",
       "<polyline clip-path=\"url(#clip7102)\" style=\"stroke:#d3d3d3; stroke-width:4; stroke-opacity:1; fill:none\" points=\"\n",
       "  934.234,1386.61 934.234,1386.61 962.278,1386.61 934.234,1386.61 \n",
       "  \"/>\n",
       "<polygon clip-path=\"url(#clip7102)\" points=\"\n",
       "962.278,1379.75 962.278,1386.61 990.321,1386.61 990.321,1379.75 962.278,1379.75 962.278,1379.75 \n",
       "  \" fill=\"#d3d3d3\" fill-rule=\"evenodd\" fill-opacity=\"1\"/>\n",
       "<polyline clip-path=\"url(#clip7102)\" style=\"stroke:#d3d3d3; stroke-width:4; stroke-opacity:1; fill:none\" points=\"\n",
       "  962.278,1379.75 962.278,1386.61 990.321,1386.61 990.321,1379.75 962.278,1379.75 \n",
       "  \"/>\n",
       "<polygon clip-path=\"url(#clip7102)\" points=\"\n",
       "990.321,1379.75 990.321,1386.61 1018.36,1386.61 1018.36,1379.75 990.321,1379.75 990.321,1379.75 \n",
       "  \" fill=\"#d3d3d3\" fill-rule=\"evenodd\" fill-opacity=\"1\"/>\n",
       "<polyline clip-path=\"url(#clip7102)\" style=\"stroke:#d3d3d3; stroke-width:4; stroke-opacity:1; fill:none\" points=\"\n",
       "  990.321,1379.75 990.321,1386.61 1018.36,1386.61 1018.36,1379.75 990.321,1379.75 \n",
       "  \"/>\n",
       "<polygon clip-path=\"url(#clip7102)\" points=\"\n",
       "1018.36,1372.88 1018.36,1386.61 1046.41,1386.61 1046.41,1372.88 1018.36,1372.88 1018.36,1372.88 \n",
       "  \" fill=\"#d3d3d3\" fill-rule=\"evenodd\" fill-opacity=\"1\"/>\n",
       "<polyline clip-path=\"url(#clip7102)\" style=\"stroke:#d3d3d3; stroke-width:4; stroke-opacity:1; fill:none\" points=\"\n",
       "  1018.36,1372.88 1018.36,1386.61 1046.41,1386.61 1046.41,1372.88 1018.36,1372.88 \n",
       "  \"/>\n",
       "<polygon clip-path=\"url(#clip7102)\" points=\"\n",
       "1046.41,1359.16 1046.41,1386.61 1074.45,1386.61 1074.45,1359.16 1046.41,1359.16 1046.41,1359.16 \n",
       "  \" fill=\"#d3d3d3\" fill-rule=\"evenodd\" fill-opacity=\"1\"/>\n",
       "<polyline clip-path=\"url(#clip7102)\" style=\"stroke:#d3d3d3; stroke-width:4; stroke-opacity:1; fill:none\" points=\"\n",
       "  1046.41,1359.16 1046.41,1386.61 1074.45,1386.61 1074.45,1359.16 1046.41,1359.16 \n",
       "  \"/>\n",
       "<polygon clip-path=\"url(#clip7102)\" points=\"\n",
       "1074.45,1366.02 1074.45,1386.61 1102.49,1386.61 1102.49,1366.02 1074.45,1366.02 1074.45,1366.02 \n",
       "  \" fill=\"#d3d3d3\" fill-rule=\"evenodd\" fill-opacity=\"1\"/>\n",
       "<polyline clip-path=\"url(#clip7102)\" style=\"stroke:#d3d3d3; stroke-width:4; stroke-opacity:1; fill:none\" points=\"\n",
       "  1074.45,1366.02 1074.45,1386.61 1102.49,1386.61 1102.49,1366.02 1074.45,1366.02 \n",
       "  \"/>\n",
       "<polygon clip-path=\"url(#clip7102)\" points=\"\n",
       "1102.49,1359.16 1102.49,1386.61 1130.54,1386.61 1130.54,1359.16 1102.49,1359.16 1102.49,1359.16 \n",
       "  \" fill=\"#d3d3d3\" fill-rule=\"evenodd\" fill-opacity=\"1\"/>\n",
       "<polyline clip-path=\"url(#clip7102)\" style=\"stroke:#d3d3d3; stroke-width:4; stroke-opacity:1; fill:none\" points=\"\n",
       "  1102.49,1359.16 1102.49,1386.61 1130.54,1386.61 1130.54,1359.16 1102.49,1359.16 \n",
       "  \"/>\n",
       "<polygon clip-path=\"url(#clip7102)\" points=\"\n",
       "1130.54,1331.71 1130.54,1386.61 1158.58,1386.61 1158.58,1331.71 1130.54,1331.71 1130.54,1331.71 \n",
       "  \" fill=\"#d3d3d3\" fill-rule=\"evenodd\" fill-opacity=\"1\"/>\n",
       "<polyline clip-path=\"url(#clip7102)\" style=\"stroke:#d3d3d3; stroke-width:4; stroke-opacity:1; fill:none\" points=\"\n",
       "  1130.54,1331.71 1130.54,1386.61 1158.58,1386.61 1158.58,1331.71 1130.54,1331.71 \n",
       "  \"/>\n",
       "<polygon clip-path=\"url(#clip7102)\" points=\"\n",
       "1158.58,1283.68 1158.58,1386.61 1186.62,1386.61 1186.62,1283.68 1158.58,1283.68 1158.58,1283.68 \n",
       "  \" fill=\"#d3d3d3\" fill-rule=\"evenodd\" fill-opacity=\"1\"/>\n",
       "<polyline clip-path=\"url(#clip7102)\" style=\"stroke:#d3d3d3; stroke-width:4; stroke-opacity:1; fill:none\" points=\"\n",
       "  1158.58,1283.68 1158.58,1386.61 1186.62,1386.61 1186.62,1283.68 1158.58,1283.68 \n",
       "  \"/>\n",
       "<polygon clip-path=\"url(#clip7102)\" points=\"\n",
       "1186.62,1249.37 1186.62,1386.61 1214.67,1386.61 1214.67,1249.37 1186.62,1249.37 1186.62,1249.37 \n",
       "  \" fill=\"#d3d3d3\" fill-rule=\"evenodd\" fill-opacity=\"1\"/>\n",
       "<polyline clip-path=\"url(#clip7102)\" style=\"stroke:#d3d3d3; stroke-width:4; stroke-opacity:1; fill:none\" points=\"\n",
       "  1186.62,1249.37 1186.62,1386.61 1214.67,1386.61 1214.67,1249.37 1186.62,1249.37 \n",
       "  \"/>\n",
       "<polygon clip-path=\"url(#clip7102)\" points=\"\n",
       "1214.67,1163.59 1214.67,1386.61 1242.71,1386.61 1242.71,1163.59 1214.67,1163.59 1214.67,1163.59 \n",
       "  \" fill=\"#d3d3d3\" fill-rule=\"evenodd\" fill-opacity=\"1\"/>\n",
       "<polyline clip-path=\"url(#clip7102)\" style=\"stroke:#d3d3d3; stroke-width:4; stroke-opacity:1; fill:none\" points=\"\n",
       "  1214.67,1163.59 1214.67,1386.61 1242.71,1386.61 1242.71,1163.59 1214.67,1163.59 \n",
       "  \"/>\n",
       "<polygon clip-path=\"url(#clip7102)\" points=\"\n",
       "1242.71,1118.99 1242.71,1386.61 1270.75,1386.61 1270.75,1118.99 1242.71,1118.99 1242.71,1118.99 \n",
       "  \" fill=\"#d3d3d3\" fill-rule=\"evenodd\" fill-opacity=\"1\"/>\n",
       "<polyline clip-path=\"url(#clip7102)\" style=\"stroke:#d3d3d3; stroke-width:4; stroke-opacity:1; fill:none\" points=\"\n",
       "  1242.71,1118.99 1242.71,1386.61 1270.75,1386.61 1270.75,1118.99 1242.71,1118.99 \n",
       "  \"/>\n",
       "<polygon clip-path=\"url(#clip7102)\" points=\"\n",
       "1270.75,947.439 1270.75,1386.61 1298.8,1386.61 1298.8,947.439 1270.75,947.439 1270.75,947.439 \n",
       "  \" fill=\"#d3d3d3\" fill-rule=\"evenodd\" fill-opacity=\"1\"/>\n",
       "<polyline clip-path=\"url(#clip7102)\" style=\"stroke:#d3d3d3; stroke-width:4; stroke-opacity:1; fill:none\" points=\"\n",
       "  1270.75,947.439 1270.75,1386.61 1298.8,1386.61 1298.8,947.439 1270.75,947.439 \n",
       "  \"/>\n",
       "<polygon clip-path=\"url(#clip7102)\" points=\"\n",
       "1298.8,844.508 1298.8,1386.61 1326.84,1386.61 1326.84,844.508 1298.8,844.508 1298.8,844.508 \n",
       "  \" fill=\"#d3d3d3\" fill-rule=\"evenodd\" fill-opacity=\"1\"/>\n",
       "<polyline clip-path=\"url(#clip7102)\" style=\"stroke:#d3d3d3; stroke-width:4; stroke-opacity:1; fill:none\" points=\"\n",
       "  1298.8,844.508 1298.8,1386.61 1326.84,1386.61 1326.84,844.508 1298.8,844.508 \n",
       "  \"/>\n",
       "<polygon clip-path=\"url(#clip7102)\" points=\"\n",
       "1326.84,765.595 1326.84,1386.61 1354.88,1386.61 1354.88,765.595 1326.84,765.595 1326.84,765.595 \n",
       "  \" fill=\"#d3d3d3\" fill-rule=\"evenodd\" fill-opacity=\"1\"/>\n",
       "<polyline clip-path=\"url(#clip7102)\" style=\"stroke:#d3d3d3; stroke-width:4; stroke-opacity:1; fill:none\" points=\"\n",
       "  1326.84,765.595 1326.84,1386.61 1354.88,1386.61 1354.88,765.595 1326.84,765.595 \n",
       "  \"/>\n",
       "<polygon clip-path=\"url(#clip7102)\" points=\"\n",
       "1354.88,655.803 1354.88,1386.61 1382.93,1386.61 1382.93,655.803 1354.88,655.803 1354.88,655.803 \n",
       "  \" fill=\"#d3d3d3\" fill-rule=\"evenodd\" fill-opacity=\"1\"/>\n",
       "<polyline clip-path=\"url(#clip7102)\" style=\"stroke:#d3d3d3; stroke-width:4; stroke-opacity:1; fill:none\" points=\"\n",
       "  1354.88,655.803 1354.88,1386.61 1382.93,1386.61 1382.93,655.803 1354.88,655.803 \n",
       "  \"/>\n",
       "<polygon clip-path=\"url(#clip7102)\" points=\"\n",
       "1382.93,473.959 1382.93,1386.61 1410.97,1386.61 1410.97,473.959 1382.93,473.959 1382.93,473.959 \n",
       "  \" fill=\"#d3d3d3\" fill-rule=\"evenodd\" fill-opacity=\"1\"/>\n",
       "<polyline clip-path=\"url(#clip7102)\" style=\"stroke:#d3d3d3; stroke-width:4; stroke-opacity:1; fill:none\" points=\"\n",
       "  1382.93,473.959 1382.93,1386.61 1410.97,1386.61 1410.97,473.959 1382.93,473.959 \n",
       "  \"/>\n",
       "<polygon clip-path=\"url(#clip7102)\" points=\"\n",
       "1410.97,381.322 1410.97,1386.61 1439.01,1386.61 1439.01,381.322 1410.97,381.322 1410.97,381.322 \n",
       "  \" fill=\"#d3d3d3\" fill-rule=\"evenodd\" fill-opacity=\"1\"/>\n",
       "<polyline clip-path=\"url(#clip7102)\" style=\"stroke:#d3d3d3; stroke-width:4; stroke-opacity:1; fill:none\" points=\"\n",
       "  1410.97,381.322 1410.97,1386.61 1439.01,1386.61 1439.01,381.322 1410.97,381.322 \n",
       "  \"/>\n",
       "<polygon clip-path=\"url(#clip7102)\" points=\"\n",
       "1439.01,182.323 1439.01,1386.61 1467.06,1386.61 1467.06,182.323 1439.01,182.323 1439.01,182.323 \n",
       "  \" fill=\"#d3d3d3\" fill-rule=\"evenodd\" fill-opacity=\"1\"/>\n",
       "<polyline clip-path=\"url(#clip7102)\" style=\"stroke:#d3d3d3; stroke-width:4; stroke-opacity:1; fill:none\" points=\"\n",
       "  1439.01,182.323 1439.01,1386.61 1467.06,1386.61 1467.06,182.323 1439.01,182.323 \n",
       "  \"/>\n",
       "<polygon clip-path=\"url(#clip7102)\" points=\"\n",
       "1467.06,196.047 1467.06,1386.61 1495.1,1386.61 1495.1,196.047 1467.06,196.047 1467.06,196.047 \n",
       "  \" fill=\"#d3d3d3\" fill-rule=\"evenodd\" fill-opacity=\"1\"/>\n",
       "<polyline clip-path=\"url(#clip7102)\" style=\"stroke:#d3d3d3; stroke-width:4; stroke-opacity:1; fill:none\" points=\"\n",
       "  1467.06,196.047 1467.06,1386.61 1495.1,1386.61 1495.1,196.047 1467.06,196.047 \n",
       "  \"/>\n",
       "<polygon clip-path=\"url(#clip7102)\" points=\"\n",
       "1495.1,172.03 1495.1,1386.61 1523.14,1386.61 1523.14,172.03 1495.1,172.03 1495.1,172.03 \n",
       "  \" fill=\"#d3d3d3\" fill-rule=\"evenodd\" fill-opacity=\"1\"/>\n",
       "<polyline clip-path=\"url(#clip7102)\" style=\"stroke:#d3d3d3; stroke-width:4; stroke-opacity:1; fill:none\" points=\"\n",
       "  1495.1,172.03 1495.1,1386.61 1523.14,1386.61 1523.14,172.03 1495.1,172.03 \n",
       "  \"/>\n",
       "<polygon clip-path=\"url(#clip7102)\" points=\"\n",
       "1523.14,96.5477 1523.14,1386.61 1551.19,1386.61 1551.19,96.5477 1523.14,96.5477 1523.14,96.5477 \n",
       "  \" fill=\"#d3d3d3\" fill-rule=\"evenodd\" fill-opacity=\"1\"/>\n",
       "<polyline clip-path=\"url(#clip7102)\" style=\"stroke:#d3d3d3; stroke-width:4; stroke-opacity:1; fill:none\" points=\"\n",
       "  1523.14,96.5477 1523.14,1386.61 1551.19,1386.61 1551.19,96.5477 1523.14,96.5477 \n",
       "  \"/>\n",
       "<polygon clip-path=\"url(#clip7102)\" points=\"\n",
       "1551.19,86.2547 1551.19,1386.61 1579.23,1386.61 1579.23,86.2547 1551.19,86.2547 1551.19,86.2547 \n",
       "  \" fill=\"#d3d3d3\" fill-rule=\"evenodd\" fill-opacity=\"1\"/>\n",
       "<polyline clip-path=\"url(#clip7102)\" style=\"stroke:#d3d3d3; stroke-width:4; stroke-opacity:1; fill:none\" points=\"\n",
       "  1551.19,86.2547 1551.19,1386.61 1579.23,1386.61 1579.23,86.2547 1551.19,86.2547 \n",
       "  \"/>\n",
       "<polygon clip-path=\"url(#clip7102)\" points=\"\n",
       "1579.23,165.168 1579.23,1386.61 1607.27,1386.61 1607.27,165.168 1579.23,165.168 1579.23,165.168 \n",
       "  \" fill=\"#d3d3d3\" fill-rule=\"evenodd\" fill-opacity=\"1\"/>\n",
       "<polyline clip-path=\"url(#clip7102)\" style=\"stroke:#d3d3d3; stroke-width:4; stroke-opacity:1; fill:none\" points=\"\n",
       "  1579.23,165.168 1579.23,1386.61 1607.27,1386.61 1607.27,165.168 1579.23,165.168 \n",
       "  \"/>\n",
       "<polygon clip-path=\"url(#clip7102)\" points=\"\n",
       "1607.27,326.425 1607.27,1386.61 1635.32,1386.61 1635.32,326.425 1607.27,326.425 1607.27,326.425 \n",
       "  \" fill=\"#d3d3d3\" fill-rule=\"evenodd\" fill-opacity=\"1\"/>\n",
       "<polyline clip-path=\"url(#clip7102)\" style=\"stroke:#d3d3d3; stroke-width:4; stroke-opacity:1; fill:none\" points=\"\n",
       "  1607.27,326.425 1607.27,1386.61 1635.32,1386.61 1635.32,326.425 1607.27,326.425 \n",
       "  \"/>\n",
       "<polygon clip-path=\"url(#clip7102)\" points=\"\n",
       "1635.32,295.546 1635.32,1386.61 1663.36,1386.61 1663.36,295.546 1635.32,295.546 1635.32,295.546 \n",
       "  \" fill=\"#d3d3d3\" fill-rule=\"evenodd\" fill-opacity=\"1\"/>\n",
       "<polyline clip-path=\"url(#clip7102)\" style=\"stroke:#d3d3d3; stroke-width:4; stroke-opacity:1; fill:none\" points=\"\n",
       "  1635.32,295.546 1635.32,1386.61 1663.36,1386.61 1663.36,295.546 1635.32,295.546 \n",
       "  \"/>\n",
       "<polygon clip-path=\"url(#clip7102)\" points=\"\n",
       "1663.36,473.959 1663.36,1386.61 1691.4,1386.61 1691.4,473.959 1663.36,473.959 1663.36,473.959 \n",
       "  \" fill=\"#d3d3d3\" fill-rule=\"evenodd\" fill-opacity=\"1\"/>\n",
       "<polyline clip-path=\"url(#clip7102)\" style=\"stroke:#d3d3d3; stroke-width:4; stroke-opacity:1; fill:none\" points=\"\n",
       "  1663.36,473.959 1663.36,1386.61 1691.4,1386.61 1691.4,473.959 1663.36,473.959 \n",
       "  \"/>\n",
       "<polygon clip-path=\"url(#clip7102)\" points=\"\n",
       "1691.4,611.199 1691.4,1386.61 1719.45,1386.61 1719.45,611.199 1691.4,611.199 1691.4,611.199 \n",
       "  \" fill=\"#d3d3d3\" fill-rule=\"evenodd\" fill-opacity=\"1\"/>\n",
       "<polyline clip-path=\"url(#clip7102)\" style=\"stroke:#d3d3d3; stroke-width:4; stroke-opacity:1; fill:none\" points=\"\n",
       "  1691.4,611.199 1691.4,1386.61 1719.45,1386.61 1719.45,611.199 1691.4,611.199 \n",
       "  \"/>\n",
       "<polygon clip-path=\"url(#clip7102)\" points=\"\n",
       "1719.45,803.336 1719.45,1386.61 1747.49,1386.61 1747.49,803.336 1719.45,803.336 1719.45,803.336 \n",
       "  \" fill=\"#d3d3d3\" fill-rule=\"evenodd\" fill-opacity=\"1\"/>\n",
       "<polyline clip-path=\"url(#clip7102)\" style=\"stroke:#d3d3d3; stroke-width:4; stroke-opacity:1; fill:none\" points=\"\n",
       "  1719.45,803.336 1719.45,1386.61 1747.49,1386.61 1747.49,803.336 1719.45,803.336 \n",
       "  \"/>\n",
       "<polygon clip-path=\"url(#clip7102)\" points=\"\n",
       "1747.49,892.542 1747.49,1386.61 1775.53,1386.61 1775.53,892.542 1747.49,892.542 1747.49,892.542 \n",
       "  \" fill=\"#d3d3d3\" fill-rule=\"evenodd\" fill-opacity=\"1\"/>\n",
       "<polyline clip-path=\"url(#clip7102)\" style=\"stroke:#d3d3d3; stroke-width:4; stroke-opacity:1; fill:none\" points=\"\n",
       "  1747.49,892.542 1747.49,1386.61 1775.53,1386.61 1775.53,892.542 1747.49,892.542 \n",
       "  \"/>\n",
       "<polygon clip-path=\"url(#clip7102)\" points=\"\n",
       "1775.53,1050.37 1775.53,1386.61 1803.58,1386.61 1803.58,1050.37 1775.53,1050.37 1775.53,1050.37 \n",
       "  \" fill=\"#d3d3d3\" fill-rule=\"evenodd\" fill-opacity=\"1\"/>\n",
       "<polyline clip-path=\"url(#clip7102)\" style=\"stroke:#d3d3d3; stroke-width:4; stroke-opacity:1; fill:none\" points=\"\n",
       "  1775.53,1050.37 1775.53,1386.61 1803.58,1386.61 1803.58,1050.37 1775.53,1050.37 \n",
       "  \"/>\n",
       "<polygon clip-path=\"url(#clip7102)\" points=\"\n",
       "1803.58,1122.42 1803.58,1386.61 1831.62,1386.61 1831.62,1122.42 1803.58,1122.42 1803.58,1122.42 \n",
       "  \" fill=\"#d3d3d3\" fill-rule=\"evenodd\" fill-opacity=\"1\"/>\n",
       "<polyline clip-path=\"url(#clip7102)\" style=\"stroke:#d3d3d3; stroke-width:4; stroke-opacity:1; fill:none\" points=\"\n",
       "  1803.58,1122.42 1803.58,1386.61 1831.62,1386.61 1831.62,1122.42 1803.58,1122.42 \n",
       "  \"/>\n",
       "<polygon clip-path=\"url(#clip7102)\" points=\"\n",
       "1831.62,1160.16 1831.62,1386.61 1859.66,1386.61 1859.66,1160.16 1831.62,1160.16 1831.62,1160.16 \n",
       "  \" fill=\"#d3d3d3\" fill-rule=\"evenodd\" fill-opacity=\"1\"/>\n",
       "<polyline clip-path=\"url(#clip7102)\" style=\"stroke:#d3d3d3; stroke-width:4; stroke-opacity:1; fill:none\" points=\"\n",
       "  1831.62,1160.16 1831.62,1386.61 1859.66,1386.61 1859.66,1160.16 1831.62,1160.16 \n",
       "  \"/>\n",
       "<polygon clip-path=\"url(#clip7102)\" points=\"\n",
       "1859.66,1201.33 1859.66,1386.61 1887.71,1386.61 1887.71,1201.33 1859.66,1201.33 1859.66,1201.33 \n",
       "  \" fill=\"#d3d3d3\" fill-rule=\"evenodd\" fill-opacity=\"1\"/>\n",
       "<polyline clip-path=\"url(#clip7102)\" style=\"stroke:#d3d3d3; stroke-width:4; stroke-opacity:1; fill:none\" points=\"\n",
       "  1859.66,1201.33 1859.66,1386.61 1887.71,1386.61 1887.71,1201.33 1859.66,1201.33 \n",
       "  \"/>\n",
       "<polygon clip-path=\"url(#clip7102)\" points=\"\n",
       "1887.71,1276.82 1887.71,1386.61 1915.75,1386.61 1915.75,1276.82 1887.71,1276.82 1887.71,1276.82 \n",
       "  \" fill=\"#d3d3d3\" fill-rule=\"evenodd\" fill-opacity=\"1\"/>\n",
       "<polyline clip-path=\"url(#clip7102)\" style=\"stroke:#d3d3d3; stroke-width:4; stroke-opacity:1; fill:none\" points=\"\n",
       "  1887.71,1276.82 1887.71,1386.61 1915.75,1386.61 1915.75,1276.82 1887.71,1276.82 \n",
       "  \"/>\n",
       "<polygon clip-path=\"url(#clip7102)\" points=\"\n",
       "1915.75,1307.69 1915.75,1386.61 1943.79,1386.61 1943.79,1307.69 1915.75,1307.69 1915.75,1307.69 \n",
       "  \" fill=\"#d3d3d3\" fill-rule=\"evenodd\" fill-opacity=\"1\"/>\n",
       "<polyline clip-path=\"url(#clip7102)\" style=\"stroke:#d3d3d3; stroke-width:4; stroke-opacity:1; fill:none\" points=\"\n",
       "  1915.75,1307.69 1915.75,1386.61 1943.79,1386.61 1943.79,1307.69 1915.75,1307.69 \n",
       "  \"/>\n",
       "<polygon clip-path=\"url(#clip7102)\" points=\"\n",
       "1943.79,1321.42 1943.79,1386.61 1971.84,1386.61 1971.84,1321.42 1943.79,1321.42 1943.79,1321.42 \n",
       "  \" fill=\"#d3d3d3\" fill-rule=\"evenodd\" fill-opacity=\"1\"/>\n",
       "<polyline clip-path=\"url(#clip7102)\" style=\"stroke:#d3d3d3; stroke-width:4; stroke-opacity:1; fill:none\" points=\"\n",
       "  1943.79,1321.42 1943.79,1386.61 1971.84,1386.61 1971.84,1321.42 1943.79,1321.42 \n",
       "  \"/>\n",
       "<polygon clip-path=\"url(#clip7102)\" points=\"\n",
       "1971.84,1328.28 1971.84,1386.61 1999.88,1386.61 1999.88,1328.28 1971.84,1328.28 1971.84,1328.28 \n",
       "  \" fill=\"#d3d3d3\" fill-rule=\"evenodd\" fill-opacity=\"1\"/>\n",
       "<polyline clip-path=\"url(#clip7102)\" style=\"stroke:#d3d3d3; stroke-width:4; stroke-opacity:1; fill:none\" points=\"\n",
       "  1971.84,1328.28 1971.84,1386.61 1999.88,1386.61 1999.88,1328.28 1971.84,1328.28 \n",
       "  \"/>\n",
       "<polygon clip-path=\"url(#clip7102)\" points=\"\n",
       "1999.88,1362.59 1999.88,1386.61 2027.92,1386.61 2027.92,1362.59 1999.88,1362.59 1999.88,1362.59 \n",
       "  \" fill=\"#d3d3d3\" fill-rule=\"evenodd\" fill-opacity=\"1\"/>\n",
       "<polyline clip-path=\"url(#clip7102)\" style=\"stroke:#d3d3d3; stroke-width:4; stroke-opacity:1; fill:none\" points=\"\n",
       "  1999.88,1362.59 1999.88,1386.61 2027.92,1386.61 2027.92,1362.59 1999.88,1362.59 \n",
       "  \"/>\n",
       "<polygon clip-path=\"url(#clip7102)\" points=\"\n",
       "2027.92,1376.31 2027.92,1386.61 2055.97,1386.61 2055.97,1376.31 2027.92,1376.31 2027.92,1376.31 \n",
       "  \" fill=\"#d3d3d3\" fill-rule=\"evenodd\" fill-opacity=\"1\"/>\n",
       "<polyline clip-path=\"url(#clip7102)\" style=\"stroke:#d3d3d3; stroke-width:4; stroke-opacity:1; fill:none\" points=\"\n",
       "  2027.92,1376.31 2027.92,1386.61 2055.97,1386.61 2055.97,1376.31 2027.92,1376.31 \n",
       "  \"/>\n",
       "<polygon clip-path=\"url(#clip7102)\" points=\"\n",
       "2055.97,1379.75 2055.97,1386.61 2084.01,1386.61 2084.01,1379.75 2055.97,1379.75 2055.97,1379.75 \n",
       "  \" fill=\"#d3d3d3\" fill-rule=\"evenodd\" fill-opacity=\"1\"/>\n",
       "<polyline clip-path=\"url(#clip7102)\" style=\"stroke:#d3d3d3; stroke-width:4; stroke-opacity:1; fill:none\" points=\"\n",
       "  2055.97,1379.75 2055.97,1386.61 2084.01,1386.61 2084.01,1379.75 2055.97,1379.75 \n",
       "  \"/>\n",
       "<polygon clip-path=\"url(#clip7102)\" points=\"\n",
       "2084.01,1379.75 2084.01,1386.61 2112.05,1386.61 2112.05,1379.75 2084.01,1379.75 2084.01,1379.75 \n",
       "  \" fill=\"#d3d3d3\" fill-rule=\"evenodd\" fill-opacity=\"1\"/>\n",
       "<polyline clip-path=\"url(#clip7102)\" style=\"stroke:#d3d3d3; stroke-width:4; stroke-opacity:1; fill:none\" points=\"\n",
       "  2084.01,1379.75 2084.01,1386.61 2112.05,1386.61 2112.05,1379.75 2084.01,1379.75 \n",
       "  \"/>\n",
       "<polygon clip-path=\"url(#clip7102)\" points=\"\n",
       "2112.05,1379.75 2112.05,1386.61 2140.1,1386.61 2140.1,1379.75 2112.05,1379.75 2112.05,1379.75 \n",
       "  \" fill=\"#d3d3d3\" fill-rule=\"evenodd\" fill-opacity=\"1\"/>\n",
       "<polyline clip-path=\"url(#clip7102)\" style=\"stroke:#d3d3d3; stroke-width:4; stroke-opacity:1; fill:none\" points=\"\n",
       "  2112.05,1379.75 2112.05,1386.61 2140.1,1386.61 2140.1,1379.75 2112.05,1379.75 \n",
       "  \"/>\n",
       "<polygon clip-path=\"url(#clip7102)\" points=\"\n",
       "2140.1,1383.18 2140.1,1386.61 2168.14,1386.61 2168.14,1383.18 2140.1,1383.18 2140.1,1383.18 \n",
       "  \" fill=\"#d3d3d3\" fill-rule=\"evenodd\" fill-opacity=\"1\"/>\n",
       "<polyline clip-path=\"url(#clip7102)\" style=\"stroke:#d3d3d3; stroke-width:4; stroke-opacity:1; fill:none\" points=\"\n",
       "  2140.1,1383.18 2140.1,1386.61 2168.14,1386.61 2168.14,1383.18 2140.1,1383.18 \n",
       "  \"/>\n",
       "<polygon clip-path=\"url(#clip7102)\" points=\"\n",
       "2168.14,1386.61 2168.14,1386.61 2196.18,1386.61 2196.18,1386.61 2168.14,1386.61 2168.14,1386.61 \n",
       "  \" fill=\"#d3d3d3\" fill-rule=\"evenodd\" fill-opacity=\"1\"/>\n",
       "<polyline clip-path=\"url(#clip7102)\" style=\"stroke:#d3d3d3; stroke-width:4; stroke-opacity:1; fill:none\" points=\"\n",
       "  2168.14,1386.61 2168.14,1386.61 2196.18,1386.61 2168.14,1386.61 \n",
       "  \"/>\n",
       "<polygon clip-path=\"url(#clip7102)\" points=\"\n",
       "2196.18,1386.61 2196.18,1386.61 2224.23,1386.61 2224.23,1386.61 2196.18,1386.61 2196.18,1386.61 \n",
       "  \" fill=\"#d3d3d3\" fill-rule=\"evenodd\" fill-opacity=\"1\"/>\n",
       "<polyline clip-path=\"url(#clip7102)\" style=\"stroke:#d3d3d3; stroke-width:4; stroke-opacity:1; fill:none\" points=\"\n",
       "  2196.18,1386.61 2196.18,1386.61 2224.23,1386.61 2196.18,1386.61 \n",
       "  \"/>\n",
       "<polygon clip-path=\"url(#clip7102)\" points=\"\n",
       "2224.23,1383.18 2224.23,1386.61 2252.27,1386.61 2252.27,1383.18 2224.23,1383.18 2224.23,1383.18 \n",
       "  \" fill=\"#d3d3d3\" fill-rule=\"evenodd\" fill-opacity=\"1\"/>\n",
       "<polyline clip-path=\"url(#clip7102)\" style=\"stroke:#d3d3d3; stroke-width:4; stroke-opacity:1; fill:none\" points=\"\n",
       "  2224.23,1383.18 2224.23,1386.61 2252.27,1386.61 2252.27,1383.18 2224.23,1383.18 \n",
       "  \"/>\n",
       "<polyline clip-path=\"url(#clip7102)\" style=\"stroke:#000000; stroke-width:8; stroke-opacity:1; fill:none\" points=\"\n",
       "  2083.07,139263 2083.07,-137790 \n",
       "  \"/>\n",
       "<polygon clip-path=\"url(#clip7100)\" points=\"\n",
       "301.135,312.204 902.282,312.204 902.282,130.764 301.135,130.764 \n",
       "  \" fill=\"#ffffff\" fill-rule=\"evenodd\" fill-opacity=\"1\"/>\n",
       "<polyline clip-path=\"url(#clip7100)\" style=\"stroke:#000000; stroke-width:4; stroke-opacity:1; fill:none\" points=\"\n",
       "  301.135,312.204 902.282,312.204 902.282,130.764 301.135,130.764 301.135,312.204 \n",
       "  \"/>\n",
       "<polygon clip-path=\"url(#clip7100)\" points=\"\n",
       "325.135,215.436 469.135,215.436 469.135,167.052 325.135,167.052 325.135,215.436 \n",
       "  \" fill=\"#d3d3d3\" fill-rule=\"evenodd\" fill-opacity=\"1\"/>\n",
       "<polyline clip-path=\"url(#clip7100)\" style=\"stroke:#d3d3d3; stroke-width:4; stroke-opacity:1; fill:none\" points=\"\n",
       "  325.135,215.436 469.135,215.436 469.135,167.052 325.135,167.052 325.135,215.436 \n",
       "  \"/>\n",
       "<g clip-path=\"url(#clip7100)\">\n",
       "<text style=\"fill:#000000; fill-opacity:1; font-family:Arial,Helvetica Neue,Helvetica,sans-serif; font-size:48px; text-anchor:start;\" transform=\"rotate(0, 493.135, 208.744)\" x=\"493.135\" y=\"208.744\">Random values</text>\n",
       "</g>\n",
       "<polyline clip-path=\"url(#clip7100)\" style=\"stroke:#000000; stroke-width:8; stroke-opacity:1; fill:none\" points=\"\n",
       "  325.135,251.724 469.135,251.724 \n",
       "  \"/>\n",
       "<g clip-path=\"url(#clip7100)\">\n",
       "<text style=\"fill:#000000; fill-opacity:1; font-family:Arial,Helvetica Neue,Helvetica,sans-serif; font-size:48px; text-anchor:start;\" transform=\"rotate(0, 493.135, 269.224)\" x=\"493.135\" y=\"269.224\">Observed values</text>\n",
       "</g>\n",
       "</svg>\n"
      ]
     },
     "execution_count": 26,
     "metadata": {},
     "output_type": "execute_result"
    }
   ],
   "source": [
    "histogram(nodf_random, lab=\"Random values\", c=:lightgrey, lc=:lightgrey, frame=:origin, legend=:topleft)\n",
    "vline!([nodf(N)], lab=\"Observed values\", c=:black, lw=2)\n",
    "xaxis!(\"NODF\")\n",
    "yaxis!(\"Count\")"
   ]
  },
  {
   "cell_type": "code",
   "execution_count": 28,
   "metadata": {},
   "outputs": [
    {
     "data": {
      "text/plain": [
       "0.0010911074740862503"
      ]
     },
     "execution_count": 28,
     "metadata": {},
     "output_type": "execute_result"
    }
   ],
   "source": [
    "1.0-sum(nodf_random .<= nodf(N))/length(nodf_random)"
   ]
  }
 ],
 "metadata": {
  "kernelspec": {
   "display_name": "Julia 1.2.0",
   "language": "julia",
   "name": "julia-1.2"
  },
  "language_info": {
   "file_extension": ".jl",
   "mimetype": "application/julia",
   "name": "julia",
   "version": "1.2.0"
  }
 },
 "nbformat": 4,
 "nbformat_minor": 4
}
