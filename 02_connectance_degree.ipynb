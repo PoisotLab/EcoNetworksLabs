{
 "cells": [
  {
   "cell_type": "markdown",
   "metadata": {},
   "source": [
    "# Connectance & degree distribution"
   ]
  },
  {
   "cell_type": "markdown",
   "metadata": {},
   "source": [
    "https://poisotlab.github.io/EcologicalNetworks.jl/stable/"
   ]
  },
  {
   "cell_type": "code",
   "execution_count": null,
   "metadata": {},
   "outputs": [],
   "source": [
    "using EcologicalNetworks\n",
    "using EcologicalNetworksPlots\n",
    "using Plots\n",
    "using Random\n",
    "using Statistics\n",
    "using Distributions\n",
    "\n",
    "Random.seed!(42);"
   ]
  },
  {
   "cell_type": "markdown",
   "metadata": {},
   "source": []
  },
  {
   "cell_type": "markdown",
   "metadata": {},
   "source": [
    "## Connectance"
   ]
  },
  {
   "cell_type": "markdown",
   "metadata": {},
   "source": []
  },
  {
   "cell_type": "code",
   "execution_count": null,
   "metadata": {},
   "outputs": [],
   "source": [
    "function B(n::Int64, p::Float64)\n",
    "    return simplify(BipartiteNetwork(rand(Float64, (n,n)) .< p))\n",
    "end\n",
    "B(10, 0.1)"
   ]
  },
  {
   "cell_type": "markdown",
   "metadata": {},
   "source": []
  },
  {
   "cell_type": "code",
   "execution_count": null,
   "metadata": {},
   "outputs": [],
   "source": [
    "n = 250\n",
    "P = rand(500)\n",
    "networks = [B(n,p) for p in P]\n",
    "histogram(connectance.(networks))"
   ]
  },
  {
   "cell_type": "markdown",
   "metadata": {},
   "source": []
  },
  {
   "cell_type": "code",
   "execution_count": null,
   "metadata": {},
   "outputs": [],
   "source": [
    "K(N) = collect(values(degree(N)))"
   ]
  },
  {
   "cell_type": "markdown",
   "metadata": {},
   "source": []
  },
  {
   "cell_type": "code",
   "execution_count": null,
   "metadata": {},
   "outputs": [],
   "source": [
    "scatter(connectance.(networks), [var(K(n)) for n in networks])\n",
    "xaxis!(\"Connectance\")\n",
    "yaxis!(\"Variance (degree)\")"
   ]
  },
  {
   "cell_type": "markdown",
   "metadata": {},
   "source": []
  },
  {
   "cell_type": "code",
   "execution_count": null,
   "metadata": {},
   "outputs": [],
   "source": [
    "scatter(connectance.(networks), [kurtosis(K(n)) for n in networks])\n",
    "xaxis!(\"Connectance\")\n",
    "yaxis!(\"Kurtosis (degree)\")"
   ]
  },
  {
   "cell_type": "markdown",
   "metadata": {},
   "source": []
  },
  {
   "cell_type": "code",
   "execution_count": null,
   "metadata": {},
   "outputs": [],
   "source": [
    "scatter(connectance.(networks), [skewness(K(n)) for n in networks])\n",
    "xaxis!(\"Connectance\")\n",
    "yaxis!(\"Skewness (degree)\")"
   ]
  },
  {
   "cell_type": "markdown",
   "metadata": {},
   "source": []
  },
  {
   "cell_type": "markdown",
   "metadata": {},
   "source": [
    "## Degree"
   ]
  },
  {
   "cell_type": "markdown",
   "metadata": {},
   "source": []
  },
  {
   "cell_type": "code",
   "execution_count": null,
   "metadata": {},
   "outputs": [],
   "source": [
    "N = nz_stream_foodweb()[10]"
   ]
  },
  {
   "cell_type": "markdown",
   "metadata": {},
   "source": []
  },
  {
   "cell_type": "code",
   "execution_count": null,
   "metadata": {},
   "outputs": [],
   "source": [
    "I = initial(RandomInitialLayout, N)\n",
    "for step in 1:2000\n",
    "  position!(ForceDirectedLayout(0.8), I, N)\n",
    "end\n",
    "plot(I, N, aspectratio=1, size=(700,700))\n",
    "scatter!(I, N, nodefill=degree(N), nodesize=degree(N), mc=:YlGnBu)"
   ]
  },
  {
   "cell_type": "markdown",
   "metadata": {},
   "source": []
  },
  {
   "cell_type": "code",
   "execution_count": null,
   "metadata": {},
   "outputs": [],
   "source": [
    "k = collect(values(degree(N)));\n",
    "histogram(k; leg=false, c=:lightgrey)\n",
    "xaxis!(\"Degree\")"
   ]
  },
  {
   "cell_type": "markdown",
   "metadata": {},
   "source": []
  },
  {
   "cell_type": "code",
   "execution_count": null,
   "metadata": {},
   "outputs": [],
   "source": [
    "degrees = collect(1:maximum(k))\n",
    "p_degrees = zeros(Float64, length(degrees))\n",
    "for (i, d) in enumerate(degrees)\n",
    "    p_degrees[i] = sum(k .== d)/richness(N)\n",
    "end"
   ]
  },
  {
   "cell_type": "markdown",
   "metadata": {},
   "source": []
  },
  {
   "cell_type": "code",
   "execution_count": null,
   "metadata": {},
   "outputs": [],
   "source": [
    "scatter(degrees, p_degrees; leg=false)\n",
    "xaxis!(\"k\")\n",
    "yaxis!(\"P(k)\")"
   ]
  },
  {
   "cell_type": "markdown",
   "metadata": {},
   "source": []
  },
  {
   "cell_type": "markdown",
   "metadata": {},
   "source": [
    "### Using the Lorenz curve"
   ]
  },
  {
   "cell_type": "markdown",
   "metadata": {},
   "source": []
  },
  {
   "cell_type": "code",
   "execution_count": null,
   "metadata": {},
   "outputs": [],
   "source": [
    "function lorenz(N::T) where {T <: AbstractEcologicalNetwork}\n",
    "    sp = collect(1:richness(N))./richness(N)\n",
    "    k = sort(collect(values(degree(N))))\n",
    "    lk = cumsum(k)./(2.0*links(N))\n",
    "    return sp, lk\n",
    "end"
   ]
  },
  {
   "cell_type": "markdown",
   "metadata": {},
   "source": []
  },
  {
   "cell_type": "code",
   "execution_count": null,
   "metadata": {},
   "outputs": [],
   "source": [
    "N = web_of_life(\"M_PL_001\")\n",
    "plot(lorenz(N); leg=false, frame=:box, c=:black, aspectratio=1)\n",
    "xaxis!((0,1), \"Fraction of species\")\n",
    "yaxis!((0,1), \"Cumulative fraction of interactions\")"
   ]
  },
  {
   "cell_type": "markdown",
   "metadata": {},
   "source": []
  }
 ],
 "metadata": {
  "kernelspec": {
   "display_name": "Julia 1.2.0",
   "language": "julia",
   "name": "julia-1.2"
  },
  "language_info": {
   "file_extension": ".jl",
   "mimetype": "application/julia",
   "name": "julia",
   "version": "1.2.0"
  }
 },
 "nbformat": 4,
 "nbformat_minor": 2
}
