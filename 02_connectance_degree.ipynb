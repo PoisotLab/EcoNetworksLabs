{
 "cells": [
  {
   "cell_type": "code",
   "execution_count": 1,
   "metadata": {},
   "outputs": [
    {
     "name": "stderr",
     "output_type": "stream",
     "text": [
      "┌ Info: Precompiling EcologicalNetworks [f03a62fe-f8ab-5b77-a061-bb599b765229]\n",
      "└ @ Base loading.jl:1242\n"
     ]
    }
   ],
   "source": [
    "using EcologicalNetworks"
   ]
  },
  {
   "cell_type": "code",
   "execution_count": 2,
   "metadata": {},
   "outputs": [
    {
     "data": {
      "text/plain": [
       "236-element Array{NamedTuple{(:ID, :Species, :Interactions, :Connectance, :Type_of_interactions, :Type_of_data, :Reference, :Locality_of_Study, :Latitude, :Longitude),T} where T<:Tuple,1}:\n",
       " (ID = \"A_HP_001\", Species = 28, Interactions = 61, Connectance = 0.339, Type_of_interactions = \"Host-Parasite\", Type_of_data = 1, Reference = \"Hadfield JD, Krasnov BR, Poulin R, Shinichi N (2013) A tale of two phylogenies: comparative analyses of ecological interactions. The American Naturalist 183(2): 174-187\", Locality_of_Study = \"Adzharia\", Latitude = 42, Longitude = 42.65)                                                                                                            \n",
       " (ID = \"A_HP_002\", Species = 42, Interactions = 96, Connectance = 0.222, Type_of_interactions = \"Host-Parasite\", Type_of_data = 1, Reference = \"Hadfield JD, Krasnov BR, Poulin R, Shinichi N (2013) A tale of two phylogenies: comparative analyses of ecological interactions. The American Naturalist 183(2): 174-187\", Locality_of_Study = \"Akmolinsk\", Latitude = 51.166667, Longitude = 71.416667)                                                                                                \n",
       " (ID = \"A_HP_003\", Species = 32, Interactions = 108, Connectance = 0.522, Type_of_interactions = \"Host-Parasite\", Type_of_data = 1, Reference = \"Hadfield JD, Krasnov BR, Poulin R, Shinichi N (2013) A tale of two phylogenies: comparative analyses of ecological interactions. The American Naturalist 183(2): 174-187\", Locality_of_Study = \"Altai\", Latitude = 49, Longitude = 89)                                                                                                                 \n",
       " (ID = \"A_HP_004\", Species = 27, Interactions = 52, Connectance = 0.413, Type_of_interactions = \"Host-Parasite\", Type_of_data = 1, Reference = \"Hadfield JD, Krasnov BR, Poulin R, Shinichi N (2013) A tale of two phylogenies: comparative analyses of ecological interactions. The American Naturalist 183(2): 174-187\", Locality_of_Study = \"Amur\", Latitude = 50.283333, Longitude = 127.533333)                                                                                                    \n",
       " (ID = \"A_HP_005\", Species = 20, Interactions = 51, Connectance = 0.56, Type_of_interactions = \"Host-Parasite\", Type_of_data = 1, Reference = \"Hadfield JD, Krasnov BR, Poulin R, Shinichi N (2013) A tale of two phylogenies: comparative analyses of ecological interactions. The American Naturalist 183(2): 174-187\", Locality_of_Study = \"Amur-Bureya\", Latitude = 49.81212, Longitude = 129.81278)                                                                                                \n",
       " (ID = \"A_HP_006\", Species = 53, Interactions = 123, Connectance = 0.208, Type_of_interactions = \"Host-Parasite\", Type_of_data = 1, Reference = \"Hadfield JD, Krasnov BR, Poulin R, Shinichi N (2013) A tale of two phylogenies: comparative analyses of ecological interactions. The American Naturalist 183(2): 174-187\", Locality_of_Study = \"Armenia\", Latitude = 40.183529, Longitude = 44.516602)                                                                                                 \n",
       " (ID = \"A_HP_007\", Species = 25, Interactions = 43, Connectance = 0.316, Type_of_interactions = \"Host-Parasite\", Type_of_data = 1, Reference = \"Hadfield JD, Krasnov BR, Poulin R, Shinichi N (2013) A tale of two phylogenies: comparative analyses of ecological interactions. The American Naturalist 183(2): 174-187\", Locality_of_Study = \"Central Yakutia\", Latitude = 66.4, Longitude = 129.166667)                                                                                              \n",
       " (ID = \"A_HP_008\", Species = 32, Interactions = 37, Connectance = 0.193, Type_of_interactions = \"Host-Parasite\", Type_of_data = 1, Reference = \"Hadfield JD, Krasnov BR, Poulin R, Shinichi N (2013) A tale of two phylogenies: comparative analyses of ecological interactions. The American Naturalist 183(2): 174-187\", Locality_of_Study = \"Chimkent\", Latitude = 42.316667, Longitude = 69.595833)                                                                                                 \n",
       " (ID = \"A_HP_009\", Species = 36, Interactions = 97, Connectance = 0.315, Type_of_interactions = \"Host-Parasite\", Type_of_data = 1, Reference = \"Hadfield JD, Krasnov BR, Poulin R, Shinichi N (2013) A tale of two phylogenies: comparative analyses of ecological interactions. The American Naturalist 183(2): 174-187\", Locality_of_Study = \"Dzhungarsky Alatau\", Latitude = 45, Longitude = 80)                                                                                                     \n",
       " (ID = \"A_HP_010\", Species = 49, Interactions = 88, Connectance = 0.158, Type_of_interactions = \"Host-Parasite\", Type_of_data = 1, Reference = \"Hadfield JD, Krasnov BR, Poulin R, Shinichi N (2013) A tale of two phylogenies: comparative analyses of ecological interactions. The American Naturalist 183(2): 174-187\", Locality_of_Study = \"East Balkhash\", Latitude = 46.166667, Longitude = 74.333333)                                                                                            \n",
       " (ID = \"A_HP_011\", Species = 23, Interactions = 43, Connectance = 0.566, Type_of_interactions = \"Host-Parasite\", Type_of_data = 1, Reference = \"Hadfield JD, Krasnov BR, Poulin R, Shinichi N (2013) A tale of two phylogenies: comparative analyses of ecological interactions. The American Naturalist 183(2): 174-187\", Locality_of_Study = \"East Pamir\", Latitude = 39, Longitude = 72)                                                                                                             \n",
       " (ID = \"A_HP_012\", Species = 30, Interactions = 63, Connectance = 0.391, Type_of_interactions = \"Host-Parasite\", Type_of_data = 1, Reference = \"Hadfield JD, Krasnov BR, Poulin R, Shinichi N (2013) A tale of two phylogenies: comparative analyses of ecological interactions. The American Naturalist 183(2): 174-187\", Locality_of_Study = \"Gissar\", Latitude = 38.7775, Longitude = 68.423056)                                                                                                     \n",
       " (ID = \"A_HP_013\", Species = 33, Interactions = 103, Connectance = 0.426, Type_of_interactions = \"Host-Parasite\", Type_of_data = 1, Reference = \"Hadfield JD, Krasnov BR, Poulin R, Shinichi N (2013) A tale of two phylogenies: comparative analyses of ecological interactions. The American Naturalist 183(2): 174-187\", Locality_of_Study = \"Guriev\", Latitude = 47.256864, Longitude = 52.064209)                                                                                                  \n",
       " ⋮                                                                                                                                                                                                                                                                                                                                                                                                                                                                                                      \n",
       " (ID = \"M_SD_023\", Species = 23, Interactions = 38, Connectance = 0.317, Type_of_interactions = \"Seed Dispersal\", Type_of_data = 1, Reference = \"Noma, N. 1997. Annual fluctuations of sapfruits production and synchronization within and inter species in a warm temperate forest on Yakushima Island, Japan. Tropics, 6: 441-449.\", Locality_of_Study = \"Yakushima Island, Japan\", Latitude = 30.333333, Longitude = 130.5)                                                                          \n",
       " (ID = \"M_SD_024\", Species = 19, Interactions = 40, Connectance = 0.476, Type_of_interactions = \"Seed Dispersal\", Type_of_data = 0, Reference = \"Guitián, J. (1983). Relaciones entre los frutos y los passeriformes en un bosque montano de la cordillera cantábrica occidental. PhD Thesis, Univ. Santiago, Spain.\", Locality_of_Study = \"NW Spain temperte forest\", Latitude = \"\", Longitude = \"\")                                                                                                   \n",
       " (ID = \"M_SD_025\", Species = 13, Interactions = 22, Connectance = 0.524, Type_of_interactions = \"Seed Dispersal\", Type_of_data = 0, Reference = \"Sorensen 1981\", Locality_of_Study = \"england\", Latitude = 51.766667, Longitude = -1.333333)                                                                                                                                                                                                                                                            \n",
       " (ID = \"M_SD_026\", Species = 6, Interactions = 6, Connectance = 0.667, Type_of_interactions = \"Seed Dispersal\", Type_of_data = 0, Reference = \"Data unpublished, however see Jordano 1993\", Locality_of_Study = \"Campos de Otero, Sierra Nevada\", Latitude = 37.107992, Longitude = -3.385732)                                                                                                                                                                                                          \n",
       " (ID = \"M_SD_027\", Species = 16, Interactions = 31, Connectance = 0.646, Type_of_interactions = \"Seed Dispersal\", Type_of_data = 0, Reference = \"Data unpublished, however see Jordano 1993\", Locality_of_Study = \"Cañada de las Sabinas, Nava de las Correhuelas, Sierra de Cazorla\", Latitude = 37.927466, Longitude = -2.866349)                                                                                                                                                                     \n",
       " (ID = \"M_SD_028\", Species = 13, Interactions = 26, Connectance = 0.65, Type_of_interactions = \"Seed Dispersal\", Type_of_data = 0, Reference = \"Data unpublished, however see Jordano 1993\", Locality_of_Study = \"Cañada Travina, Sierra de Cazorla\", Latitude = 38.083333, Longitude = -2.75)                                                                                                                                                                                                          \n",
       " (ID = \"M_SD_029\", Species = 9, Interactions = 10, Connectance = 0.5, Type_of_interactions = \"Seed Dispersal\", Type_of_data = 0, Reference = \"Data unpublished, however see Jordano 1993\", Locality_of_Study = \"Sabinar del Marqués, Reserva de la Estación Biológica de Doñana\", Latitude = 37.022627, Longitude = -6.545233)                                                                                                                                                                          \n",
       " (ID = \"M_SD_030\", Species = 9, Interactions = 11, Connectance = 0.55, Type_of_interactions = \"Seed Dispersal\", Type_of_data = 0, Reference = \"Data unpublished, however see Jordano 1993\", Locality_of_Study = \"Santa Bárbara, Sierra de Baza\", Latitude = 37.380506, Longitude = -2.841994)                                                                                                                                                                                                           \n",
       " (ID = \"M_SD_031\", Species = 49, Interactions = 76, Connectance = 0.232, Type_of_interactions = \"Seed Dispersal\", Type_of_data = 1, Reference = \"Heleno Ruben H., Ramos Jaime A., Memmott Jane (2013). Integration of exotic seeds into an Azorean seed dispersal network. Biological Invasions. 15, 5, 1143-1154. \", Locality_of_Study = \"Serra da Tronqueira\", Latitude = 37.795017, Longitude = -25.185375)                                                                                          \n",
       " (ID = \"M_SD_032\", Species = 23, Interactions = 33, Connectance = 0.434, Type_of_interactions = \"Seed Dispersal\", Type_of_data = 1, Reference = \"Poulin, Brigitte, S. Joseph Wright, Gaetan Lefebvre, and Osvaldo Calderon (1999) Interspecific synchrony and asynchrony in the fruiting phenologies of congeneric bird-dispersed plants in Panama. Journal of Tropical Ecology 15: 213-227.\", Locality_of_Study = \"Barro Colorado Island\", Latitude = 9.15, Longitude = -79.85)                        \n",
       " (ID = \"M_SD_033\", Species = 24, Interactions = 53, Connectance = 0.371, Type_of_interactions = \"Seed Dispersal\", Type_of_data = 1, Reference = \"Poulin, Brigitte, S. Joseph Wright, Gaetan Lefebvre, and Osvaldo Calderon (1999) Interspecific synchrony and asynchrony in the fruiting phenologies of congeneric bird-dispersed plants in Panama. Journal of Tropical Ecology 15: 213-227.\", Locality_of_Study = \"Soberanía National Park\", Latitude = 9.166667, Longitude = -79.116667)              \n",
       " (ID = \"M_SD_034\", Species = 121, Interactions = 419, Connectance = 0.139, Type_of_interactions = \"Seed Dispersal\", Type_of_data = 1, Reference = \"Matthias Schleuning, Nico Blüthgen, Martina Flörchinger, Julius Braun, H. Martin Schaefer, Katrin Böhning-Gaese, (2011). Specialization and interaction strength in a tropical plant-frugivore network differ among forest strata. Ecology, 92(1): 26-36.\", Locality_of_Study = \"Kakamega Forest, Kenya\", Latitude = 0.295833, Longitude = 34.786111)"
      ]
     },
     "execution_count": 2,
     "metadata": {},
     "output_type": "execute_result"
    }
   ],
   "source": [
    "web_of_life()"
   ]
  },
  {
   "cell_type": "code",
   "execution_count": null,
   "metadata": {},
   "outputs": [
    {
     "name": "stderr",
     "output_type": "stream",
     "text": [
      "┌ Info: Precompiling Plots [91a5bcdd-55d7-5caf-9e0b-520d859cae80]\n",
      "└ @ Base loading.jl:1242\n"
     ]
    }
   ],
   "source": [
    "using Plots\n",
    "plot(rand(100))"
   ]
  }
 ],
 "metadata": {
  "kernelspec": {
   "display_name": "Julia 1.2.0",
   "language": "julia",
   "name": "julia-1.2"
  },
  "language_info": {
   "file_extension": ".jl",
   "mimetype": "application/julia",
   "name": "julia",
   "version": "1.2.0"
  }
 },
 "nbformat": 4,
 "nbformat_minor": 2
}
