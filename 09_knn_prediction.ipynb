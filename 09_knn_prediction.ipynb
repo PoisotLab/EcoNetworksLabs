{
 "cells": [
  {
   "cell_type": "code",
   "execution_count": 3,
   "metadata": {},
   "outputs": [
    {
     "name": "stdout",
     "output_type": "stream",
     "text": [
      "\u001b[32m\u001b[1mActivating\u001b[22m\u001b[39m environment at `~/teaching/network_labs/Project.toml`\n"
     ]
    }
   ],
   "source": [
    "import Pkg; Pkg.activate(\".\")\n",
    "using Plots\n",
    "using StatsBase"
   ]
  },
  {
   "cell_type": "code",
   "execution_count": 4,
   "metadata": {},
   "outputs": [
    {
     "data": {
      "text/plain": [
       "true"
      ]
     },
     "execution_count": 4,
     "metadata": {},
     "output_type": "execute_result"
    }
   ],
   "source": [
    "# Create a folder called data if it doesn't exist\n",
    "ispath(joinpath(\"data\", \"knn\")) || mkdir(joinpath(\"data\", \"knn\"))"
   ]
  },
  {
   "cell_type": "code",
   "execution_count": 5,
   "metadata": {},
   "outputs": [
    {
     "data": {
      "text/plain": [
       "true"
      ]
     },
     "execution_count": 5,
     "metadata": {},
     "output_type": "execute_result"
    }
   ],
   "source": [
    "_project_root = \"https://raw.githubusercontent.com/PhDP/EcoInter/master/KNN/data/\"\n",
    "isfile(joinpath(\"data\", \"knn\", \"interactions.csv\")) || download(_project_root*\"mercure-interactions.csv\", joinpath(\"data\", \"knn\", \"interactions.csv\"))\n",
    "isfile(joinpath(\"data\", \"knn\", \"traits-codes.txt\")) || download(_project_root*\"mercure-trait-codes.txt\", joinpath(\"data\", \"knn\", \"traits-codes.txt\"))\n",
    "isfile(joinpath(\"data\", \"knn\", \"traits.csv\")) || download(_project_root*\"mercure-traits.csv\", joinpath(\"data\", \"knn\", \"traits.csv\"))"
   ]
  },
  {
   "cell_type": "code",
   "execution_count": 6,
   "metadata": {},
   "outputs": [
    {
     "data": {
      "text/plain": [
       "0-element Array{Set{Int64},1}"
      ]
     },
     "execution_count": 6,
     "metadata": {},
     "output_type": "execute_result"
    }
   ],
   "source": [
    "data_interactions = joinpath(\"data\", \"knn\", \"interactions.csv\")\n",
    "preys = Set{Int64}[]"
   ]
  },
  {
   "cell_type": "code",
   "execution_count": 7,
   "metadata": {},
   "outputs": [],
   "source": [
    "for (i,line) in enumerate(readlines(data_interactions))\n",
    "    if length(line) > 0\n",
    "        this_preys = parse.(Int64, split(line, \", \"))\n",
    "        push!(preys, Set(this_preys))\n",
    "    else\n",
    "        push!(preys, Set(Int64[]))\n",
    "    end\n",
    "end"
   ]
  },
  {
   "cell_type": "code",
   "execution_count": 8,
   "metadata": {},
   "outputs": [
    {
     "data": {
      "text/plain": [
       "5-element Array{Set{Int64},1}:\n",
       " Set([405, 432, 391, 392])          \n",
       " Set([405, 432, 391, 392])          \n",
       " Set([403, 394, 395, 401, 404, 402])\n",
       " Set([403, 394, 395, 401, 404, 402])\n",
       " Set([403, 394, 395, 401, 404, 402])"
      ]
     },
     "execution_count": 8,
     "metadata": {},
     "output_type": "execute_result"
    }
   ],
   "source": [
    "preys[1:5]"
   ]
  },
  {
   "cell_type": "code",
   "execution_count": 9,
   "metadata": {},
   "outputs": [
    {
     "data": {
      "text/plain": [
       "tanimoto (generic function with 1 method)"
      ]
     },
     "execution_count": 9,
     "metadata": {},
     "output_type": "execute_result"
    }
   ],
   "source": [
    "tanimoto(s1::T, s2::T) where {T <: Set} = length(s1 ∩ s2)/length(s1 ∪ s2)"
   ]
  },
  {
   "cell_type": "code",
   "execution_count": 10,
   "metadata": {},
   "outputs": [
    {
     "data": {
      "text/plain": [
       "D (generic function with 1 method)"
      ]
     },
     "execution_count": 10,
     "metadata": {},
     "output_type": "execute_result"
    }
   ],
   "source": [
    "D(s1,s2) = 1.0 - tanimoto(s1,s2)"
   ]
  },
  {
   "cell_type": "code",
   "execution_count": 110,
   "metadata": {},
   "outputs": [],
   "source": [
    "top1 = Bool[]\n",
    "top3 = Bool[]\n",
    "top5 = Bool[]\n",
    "top10 = Bool[]\n",
    "neighbors_to_use = 5\n",
    "for prey_idx in 1:length(preys)\n",
    "    if length(preys[prey_idx]) > 2\n",
    "        sampled_preys = sample(collect(preys[prey_idx]), length(preys[prey_idx])-1, replace=false)\n",
    "        removed_prey = first(collect(filter(p -> !(p in sampled_preys), preys[prey_idx])))\n",
    "        test_preys = preys[filter(i -> i != prey_idx, 1:length(preys))]\n",
    "        neighbors = [D(Set(sampled_preys), p) for p in test_preys]\n",
    "        likely_preys = test_preys[partialsortperm(neighbors, 1:neighbors_to_use)]\n",
    "        recos = countmap(vcat(collect.(likely_preys)...))\n",
    "        recommended = zeros(Bool, top_recos)\n",
    "        for re in 1:10\n",
    "            if length(recos) > 0\n",
    "                cmax = filter(f -> f.second == maximum(values(recos)), recos)\n",
    "                recommended[re] = removed_prey in collect(keys(cmax))\n",
    "                filter!(f -> f.second < maximum(values(recos)), recos)\n",
    "            end\n",
    "        end\n",
    "        push!(top1, sum(recommended[1]))\n",
    "        push!(top3, sum(recommended[1:3]))\n",
    "        push!(top5, sum(recommended[1:5]))\n",
    "        push!(top10, sum(recommended[1:10]))\n",
    "    end\n",
    "end"
   ]
  },
  {
   "cell_type": "code",
   "execution_count": 111,
   "metadata": {},
   "outputs": [
    {
     "name": "stderr",
     "output_type": "stream",
     "text": [
      "┌ Info: Top  1 success, k=5: 51.02%\n",
      "└ @ Main In[111]:1\n",
      "┌ Info: Top  3 success, k=5: 73.62%\n",
      "└ @ Main In[111]:2\n",
      "┌ Info: Top  5 success, k=5: 83.97%\n",
      "└ @ Main In[111]:3\n",
      "┌ Info: Top 10 success, k=5: 83.97%\n",
      "└ @ Main In[111]:4\n"
     ]
    }
   ],
   "source": [
    "@info \"Top  1 success, k=$(neighbors_to_use): $(round(sum(top1)/length(top1).*100; digits=2))%\"\n",
    "@info \"Top  3 success, k=$(neighbors_to_use): $(round(sum(top3)/length(top3).*100; digits=2))%\"\n",
    "@info \"Top  5 success, k=$(neighbors_to_use): $(round(sum(top5)/length(top5).*100; digits=2))%\"\n",
    "@info \"Top 10 success, k=$(neighbors_to_use): $(round(sum(top10)/length(top10).*100; digits=2))%\""
   ]
  }
 ],
 "metadata": {
  "kernelspec": {
   "display_name": "Julia 1.2.0",
   "language": "julia",
   "name": "julia-1.2"
  },
  "language_info": {
   "file_extension": ".jl",
   "mimetype": "application/julia",
   "name": "julia",
   "version": "1.2.0"
  }
 },
 "nbformat": 4,
 "nbformat_minor": 4
}
