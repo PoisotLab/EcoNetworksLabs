{
 "cells": [
  {
   "cell_type": "markdown",
   "metadata": {},
   "source": [
    "# Comparing networks"
   ]
  },
  {
   "cell_type": "code",
   "execution_count": null,
   "metadata": {},
   "outputs": [],
   "source": [
    "import Pkg; Pkg.activate(\".\")\n",
    "using EcologicalNetworks\n",
    "using EcologicalNetworksPlots\n",
    "using Plots"
   ]
  },
  {
   "cell_type": "markdown",
   "metadata": {},
   "source": [
    "For this example, we will work on the data from the host-parasite study in Eurasia -- there are 51 unique networks, and we want all of them converted to binary networks as we do not account for interaction strength."
   ]
  },
  {
   "cell_type": "code",
   "execution_count": null,
   "metadata": {},
   "outputs": [],
   "source": [
    "HP = convert.(BipartiteNetwork, web_of_life.(\"A_HP_0\".*lpad.(1:51, 2, \"0\")))"
   ]
  },
  {
   "cell_type": "markdown",
   "metadata": {},
   "source": [
    "For a first illustration, we will get a pair of networks"
   ]
  },
  {
   "cell_type": "code",
   "execution_count": null,
   "metadata": {},
   "outputs": [],
   "source": [
    "N1 = HP[3]\n",
    "N2 = HP[14]"
   ]
  },
  {
   "cell_type": "markdown",
   "metadata": {},
   "source": [
    "We can *merge* these networks, to create what we call a *metaweb* -- this is the aggregation of all species and all interactions:"
   ]
  },
  {
   "cell_type": "code",
   "execution_count": null,
   "metadata": {},
   "outputs": [],
   "source": [
    "metaweb = union(N1, N2)"
   ]
  },
  {
   "cell_type": "markdown",
   "metadata": {},
   "source": [
    "We will start by plotting these networks, to see what they look like -- we will plot the metaweb, then overlay network 1, then network 2:"
   ]
  },
  {
   "cell_type": "code",
   "execution_count": null,
   "metadata": {},
   "outputs": [],
   "source": [
    "I = initial(RandomInitialLayout, metaweb)\n",
    "for step in 1:4000\n",
    "  position!(ForceDirectedLayout(), I, metaweb)\n",
    "end"
   ]
  },
  {
   "cell_type": "code",
   "execution_count": null,
   "metadata": {},
   "outputs": [],
   "source": [
    "plot(I, metaweb, lc=:lightgrey)\n",
    "scatter!(I, metaweb, mc=:lightgrey, msw=0)"
   ]
  },
  {
   "cell_type": "code",
   "execution_count": null,
   "metadata": {},
   "outputs": [],
   "source": [
    "plot!(I, N1, lc=:blue)\n",
    "scatter!(I, N1, mc=:blue, msw=0)"
   ]
  },
  {
   "cell_type": "code",
   "execution_count": null,
   "metadata": {},
   "outputs": [],
   "source": [
    "plot!(I, N2, lc=:red)\n",
    "scatter!(I, N2, mc=:red, msw=0)"
   ]
  },
  {
   "cell_type": "markdown",
   "metadata": {},
   "source": [
    "We can now plot the elements that are shared by both networks:"
   ]
  },
  {
   "cell_type": "code",
   "execution_count": null,
   "metadata": {},
   "outputs": [],
   "source": [
    "plot(I, metaweb, lc=:lightgrey)\n",
    "scatter!(I, metaweb, mc=:lightgrey, msw=0)\n",
    "plot!(I, intersect(N1, N2), lc=:purple, lw=3)\n",
    "scatter!(I, intersect(N1, N2), mc=:purple, msc=:purple, msw=3)"
   ]
  },
  {
   "cell_type": "markdown",
   "metadata": {},
   "source": [
    "## Measuring dissimilarity"
   ]
  },
  {
   "cell_type": "markdown",
   "metadata": {},
   "source": [
    "We can now measure the number of elements shared by the two networks, by either counting species, interactions, or the interactions between shared species:"
   ]
  },
  {
   "cell_type": "code",
   "execution_count": null,
   "metadata": {},
   "outputs": [],
   "source": [
    "βwn(N1, N2)"
   ]
  },
  {
   "cell_type": "code",
   "execution_count": null,
   "metadata": {},
   "outputs": [],
   "source": [
    "βos(N1, N2)"
   ]
  },
  {
   "cell_type": "code",
   "execution_count": null,
   "metadata": {},
   "outputs": [],
   "source": [
    "βs(N1, N2)"
   ]
  },
  {
   "cell_type": "markdown",
   "metadata": {},
   "source": [
    "With these information, we can measure the *pairwise dissimilarity* between these networks."
   ]
  },
  {
   "cell_type": "code",
   "execution_count": null,
   "metadata": {},
   "outputs": [],
   "source": [
    "KGL02(βos(N1, N2))"
   ]
  },
  {
   "cell_type": "markdown",
   "metadata": {},
   "source": [
    "Now let's do something more general, and compare all pairs of networks. Because we are using a symmetrical measure, we only need to do $\\frac{1}{2}n(n-1)$ comparisons:"
   ]
  },
  {
   "cell_type": "code",
   "execution_count": null,
   "metadata": {},
   "outputs": [],
   "source": [
    "n = length(HP)\n",
    "os = zeros(Float64, convert(Int64, n*(n-1)/2))\n",
    "bs = zeros(Float64, convert(Int64, n*(n-1)/2))\n",
    "wn = zeros(Float64, convert(Int64, n*(n-1)/2))\n",
    "\n",
    "f = KGL02\n",
    "\n",
    "cursor = 1\n",
    "for i in 1:(n-1), j in (i+1):n\n",
    "    os[cursor] = f(βos(HP[i], HP[j]))\n",
    "    bs[cursor] = f(βs(HP[i], HP[j]))\n",
    "    wn[cursor] = f(βwn(HP[i], HP[j]))\n",
    "    global cursor += 1\n",
    "end"
   ]
  },
  {
   "cell_type": "code",
   "execution_count": null,
   "metadata": {},
   "outputs": [],
   "source": [
    "scatter(bs, wn, leg=false, xlab=\"Species dissimilarity\", ylab=\"Network dissimilarity\", aspectratio=1)\n",
    "yaxis!((0,1))\n",
    "xaxis!((0,1))"
   ]
  },
  {
   "cell_type": "code",
   "execution_count": null,
   "metadata": {},
   "outputs": [],
   "source": [
    "scatter(bs, os, leg=false, xlab=\"Species dissimilarity\", ylab=\"Interactions dissimilarity\", aspectratio=1)\n",
    "yaxis!((0,1))\n",
    "xaxis!((0,1))"
   ]
  },
  {
   "cell_type": "markdown",
   "metadata": {},
   "source": [
    "## A measure of network originality"
   ]
  },
  {
   "cell_type": "markdown",
   "metadata": {},
   "source": [
    "We can also measure how much interactions differ between every network and the regional *metaweb*, using $\\beta_{os}'$:"
   ]
  },
  {
   "cell_type": "code",
   "execution_count": null,
   "metadata": {},
   "outputs": [],
   "source": [
    "M = reduce(union, HP)\n",
    "partitions = [βos(M, hp) for hp in HP]\n",
    "osprime = f.(partitions)\n",
    "histogram(osprime, leg=false)\n",
    "xaxis!(\"Dissimilarity to metaweb\", (0,1))"
   ]
  },
  {
   "cell_type": "markdown",
   "metadata": {},
   "source": [
    "This shows that while networks are on average *not too dissimilar* (about 0.3), some of them can have a lot fewer interactions than we expect. We may want to see whether this is linked to their connectance:"
   ]
  },
  {
   "cell_type": "code",
   "execution_count": null,
   "metadata": {},
   "outputs": [],
   "source": [
    "scatter(connectance.(HP), osprime, leg=false)\n",
    "xaxis!((0,1), \"Connectance\")\n",
    "yaxis!((0,1), \"Dissimilarity to metaweb\")"
   ]
  }
 ],
 "metadata": {
  "kernelspec": {
   "display_name": "Julia 1.2.0",
   "language": "julia",
   "name": "julia-1.2"
  },
  "language_info": {
   "file_extension": ".jl",
   "mimetype": "application/julia",
   "name": "julia",
   "version": "1.2.0"
  }
 },
 "nbformat": 4,
 "nbformat_minor": 4
}
